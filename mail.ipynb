{
 "cells": [
  {
   "cell_type": "markdown",
   "metadata": {},
   "source": [
    "## Importing required modules"
   ]
  },
  {
   "cell_type": "code",
   "execution_count": 1,
   "metadata": {},
   "outputs": [],
   "source": [
    "from google.oauth2.credentials import Credentials\n",
    "from googleapiclient.discovery import build\n",
    "import base64\n",
    "from bs4 import BeautifulSoup as bs\n",
    "import re\n",
    "import pandas as pd"
   ]
  },
  {
   "cell_type": "code",
   "execution_count": 2,
   "metadata": {},
   "outputs": [
    {
     "data": {
      "text/plain": [
       "{'emailAddress': 'dongoodygoody@gmail.com',\n",
       " 'messagesTotal': 3826,\n",
       " 'threadsTotal': 3093,\n",
       " 'historyId': '2864128'}"
      ]
     },
     "execution_count": 2,
     "metadata": {},
     "output_type": "execute_result"
    }
   ],
   "source": [
    "SCOPES = ['https://www.googleapis.com/auth/gmail.readonly']\n",
    "with open('token.json', 'rb') as token:\n",
    "    creds = Credentials.from_authorized_user_file('token.json', SCOPES)\n",
    "\n",
    "service = build('gmail', 'v1', credentials=creds)\n",
    "profile = service.users().getProfile(userId='me').execute()\n",
    "profile"
   ]
  },
  {
   "cell_type": "code",
   "execution_count": 3,
   "metadata": {},
   "outputs": [],
   "source": [
    "SCOPES = ['https://www.googleapis.com/auth/gmail.readonly']\n",
    "with open('token.json', 'rb') as token:\n",
    "    creds = Credentials.from_authorized_user_file('token.json', SCOPES)\n",
    "\n",
    "service = build('gmail', 'v1', credentials=creds)"
   ]
  },
  {
   "cell_type": "code",
   "execution_count": 4,
   "metadata": {},
   "outputs": [],
   "source": [
    "filter = service.users().messages().list(userId = 'me', maxResults=10,\n",
    "                                         q = 'from:no_reply@accessbankplc.com \\\n",
    "                                             subject:AccessAlert Transaction Alert').execute()\n",
    "\n",
    "filter_id = filter['messages']\n",
    "id_lst = []\n",
    "for ids in filter_id:\n",
    "    id_lst.append(ids['id'])\n",
    "    "
   ]
  },
  {
   "cell_type": "code",
   "execution_count": 25,
   "metadata": {},
   "outputs": [],
   "source": [
    "trans_lst = []\n",
    "for each_id in id_lst:\n",
    "    msgs = service.users().messages().get(userId = 'me', id = each_id).execute()\n",
    "    snippet = msgs['snippet']\n",
    "    main_body = msgs['payload']['body']['data']\n",
    "    main_body = main_body.replace('-', '+').replace('_', '/')\n",
    "    decode_msg = base64.b64decode(main_body)\n",
    "    soup = bs(decode_msg, 'lxml')\n",
    "    details = soup.find_all('tr')[7]\n",
    "    \n",
    "    description = details.find_all('td')[6].text.replace('\\r',' ').replace(\"\\n\",\" \").strip()\n",
    "    reference_number = details.find_all('td')[8].text.replace('\\r',' ').replace(\"\\n\",\" \").strip()\n",
    "    trans_branch = details.find_all('td')[10].text.replace('\\r',' ').replace(\"\\n\",\" \").strip()\n",
    "    date = msgs['payload']['headers'][-1]['value']\n",
    "    amount = re.search('\\d*\\.+\\d+', snippet).group()\n",
    "    acct_no = re.search('\\d*\\*+\\d+', snippet).group()\n",
    "    \n",
    "    if 'Credited' in snippet:\n",
    "        trans_type = 'Credited'\n",
    "    else:\n",
    "        trans_type = 'Debited'\n",
    "    \n",
    "    \n",
    "    trans_lst.append({\n",
    "        'amount': amount,\n",
    "        'a/c_number': acct_no,\n",
    "        'trans_type': trans_type,\n",
    "        'description': description,\n",
    "        'reference_number': reference_number,\n",
    "        'trans_branch': trans_branch,\n",
    "        'datetime': date\n",
    "    })\n",
    "cols_name = ['amount', 'a/c_number', 'trans_type', 'description', 'reference_number', 'trans_branch', 'datetime']\n",
    "data = pd.DataFrame(trans_lst, columns=cols_name)"
   ]
  },
  {
   "cell_type": "code",
   "execution_count": 26,
   "metadata": {},
   "outputs": [
    {
     "data": {
      "text/html": [
       "<div>\n",
       "<style scoped>\n",
       "    .dataframe tbody tr th:only-of-type {\n",
       "        vertical-align: middle;\n",
       "    }\n",
       "\n",
       "    .dataframe tbody tr th {\n",
       "        vertical-align: top;\n",
       "    }\n",
       "\n",
       "    .dataframe thead th {\n",
       "        text-align: right;\n",
       "    }\n",
       "</style>\n",
       "<table border=\"1\" class=\"dataframe\">\n",
       "  <thead>\n",
       "    <tr style=\"text-align: right;\">\n",
       "      <th></th>\n",
       "      <th>amount</th>\n",
       "      <th>a/c_number</th>\n",
       "      <th>trans_type</th>\n",
       "      <th>description</th>\n",
       "      <th>reference_number</th>\n",
       "      <th>trans_branch</th>\n",
       "      <th>datetime</th>\n",
       "    </tr>\n",
       "  </thead>\n",
       "  <tbody>\n",
       "    <tr>\n",
       "      <th>0</th>\n",
       "      <td>300.00</td>\n",
       "      <td>162******608</td>\n",
       "      <td>Debited</td>\n",
       "      <td>AIRTIME/ MTN/08168550974</td>\n",
       "      <td>099MJKL22253cxrA</td>\n",
       "      <td>HEAD OFFICE</td>\n",
       "      <td>Sat, 10 Sep 2022 15:52:45 +0530</td>\n",
       "    </tr>\n",
       "    <tr>\n",
       "      <th>1</th>\n",
       "      <td>200.00</td>\n",
       "      <td>162******608</td>\n",
       "      <td>Debited</td>\n",
       "      <td>AIRTIME/ MTN/08169327250</td>\n",
       "      <td>099MJKL22252PRIV</td>\n",
       "      <td>HEAD OFFICE</td>\n",
       "      <td>Sat, 10 Sep 2022 00:36:44 +0530</td>\n",
       "    </tr>\n",
       "    <tr>\n",
       "      <th>2</th>\n",
       "      <td>3000.00</td>\n",
       "      <td>070******357</td>\n",
       "      <td>Debited</td>\n",
       "      <td>POS/WEB PMT T_KCEE MAGNET GLOBA 006018 203</td>\n",
       "      <td>098WNVI222524j42</td>\n",
       "      <td>CENTRAL PROCESSING BRANCH</td>\n",
       "      <td>Fri, 9 Sep 2022 12:41:36 +0530</td>\n",
       "    </tr>\n",
       "    <tr>\n",
       "      <th>3</th>\n",
       "      <td>5000.00</td>\n",
       "      <td>070******357</td>\n",
       "      <td>Credited</td>\n",
       "      <td>TRF//FRM GOODRICH IFEANYI OKORO TO GOODRIC</td>\n",
       "      <td>099MJKL222522wGH</td>\n",
       "      <td>HEAD OFFICE</td>\n",
       "      <td>Fri, 9 Sep 2022 12:36:09 +0530</td>\n",
       "    </tr>\n",
       "    <tr>\n",
       "      <th>4</th>\n",
       "      <td>5000.00</td>\n",
       "      <td>162******608</td>\n",
       "      <td>Debited</td>\n",
       "      <td>TRF//FRM GOODRICH IFEANYI OKORO TO GOODRIC</td>\n",
       "      <td>099MJKL222522wGH</td>\n",
       "      <td>HEAD OFFICE</td>\n",
       "      <td>Fri, 9 Sep 2022 12:36:08 +0530</td>\n",
       "    </tr>\n",
       "    <tr>\n",
       "      <th>5</th>\n",
       "      <td>300.00</td>\n",
       "      <td>162******608</td>\n",
       "      <td>Debited</td>\n",
       "      <td>AIRTIME/ MTN/08168550974</td>\n",
       "      <td>099MJKL22251QAdF</td>\n",
       "      <td>HEAD OFFICE</td>\n",
       "      <td>Fri, 9 Sep 2022 01:08:53 +0530</td>\n",
       "    </tr>\n",
       "    <tr>\n",
       "      <th>6</th>\n",
       "      <td>100.00</td>\n",
       "      <td>162******608</td>\n",
       "      <td>Debited</td>\n",
       "      <td>AIRTIME/ GLO/08058825038</td>\n",
       "      <td>099MJKL22251KaT7</td>\n",
       "      <td>HEAD OFFICE</td>\n",
       "      <td>Thu, 8 Sep 2022 21:54:20 +0530</td>\n",
       "    </tr>\n",
       "    <tr>\n",
       "      <th>7</th>\n",
       "      <td>200.00</td>\n",
       "      <td>162******608</td>\n",
       "      <td>Debited</td>\n",
       "      <td>AIRTIME/ MTN/08169327250</td>\n",
       "      <td>099MJKL2224931pJ</td>\n",
       "      <td>HEAD OFFICE</td>\n",
       "      <td>Tue, 6 Sep 2022 17:25:10 +0530</td>\n",
       "    </tr>\n",
       "    <tr>\n",
       "      <th>8</th>\n",
       "      <td>200.00</td>\n",
       "      <td>162******608</td>\n",
       "      <td>Debited</td>\n",
       "      <td>AIRTIME/ MTN/08169327250</td>\n",
       "      <td>099MJKL22248NwKP</td>\n",
       "      <td>HEAD OFFICE</td>\n",
       "      <td>Mon, 5 Sep 2022 03:34:59 +0530</td>\n",
       "    </tr>\n",
       "    <tr>\n",
       "      <th>9</th>\n",
       "      <td>5100.00</td>\n",
       "      <td>070******357</td>\n",
       "      <td>Debited</td>\n",
       "      <td>POS/WEB PMT  LA 00NG</td>\n",
       "      <td>098WNVI222472lM9</td>\n",
       "      <td>CENTRAL PROCESSING BRANCH</td>\n",
       "      <td>Sun, 4 Sep 2022 22:35:43 +0530</td>\n",
       "    </tr>\n",
       "  </tbody>\n",
       "</table>\n",
       "</div>"
      ],
      "text/plain": [
       "    amount    a/c_number trans_type  \\\n",
       "0   300.00  162******608    Debited   \n",
       "1   200.00  162******608    Debited   \n",
       "2  3000.00  070******357    Debited   \n",
       "3  5000.00  070******357   Credited   \n",
       "4  5000.00  162******608    Debited   \n",
       "5   300.00  162******608    Debited   \n",
       "6   100.00  162******608    Debited   \n",
       "7   200.00  162******608    Debited   \n",
       "8   200.00  162******608    Debited   \n",
       "9  5100.00  070******357    Debited   \n",
       "\n",
       "                                  description  reference_number  \\\n",
       "0                    AIRTIME/ MTN/08168550974  099MJKL22253cxrA   \n",
       "1                    AIRTIME/ MTN/08169327250  099MJKL22252PRIV   \n",
       "2  POS/WEB PMT T_KCEE MAGNET GLOBA 006018 203  098WNVI222524j42   \n",
       "3  TRF//FRM GOODRICH IFEANYI OKORO TO GOODRIC  099MJKL222522wGH   \n",
       "4  TRF//FRM GOODRICH IFEANYI OKORO TO GOODRIC  099MJKL222522wGH   \n",
       "5                    AIRTIME/ MTN/08168550974  099MJKL22251QAdF   \n",
       "6                    AIRTIME/ GLO/08058825038  099MJKL22251KaT7   \n",
       "7                    AIRTIME/ MTN/08169327250  099MJKL2224931pJ   \n",
       "8                    AIRTIME/ MTN/08169327250  099MJKL22248NwKP   \n",
       "9                        POS/WEB PMT  LA 00NG  098WNVI222472lM9   \n",
       "\n",
       "                trans_branch                         datetime  \n",
       "0                HEAD OFFICE  Sat, 10 Sep 2022 15:52:45 +0530  \n",
       "1                HEAD OFFICE  Sat, 10 Sep 2022 00:36:44 +0530  \n",
       "2  CENTRAL PROCESSING BRANCH   Fri, 9 Sep 2022 12:41:36 +0530  \n",
       "3                HEAD OFFICE   Fri, 9 Sep 2022 12:36:09 +0530  \n",
       "4                HEAD OFFICE   Fri, 9 Sep 2022 12:36:08 +0530  \n",
       "5                HEAD OFFICE   Fri, 9 Sep 2022 01:08:53 +0530  \n",
       "6                HEAD OFFICE   Thu, 8 Sep 2022 21:54:20 +0530  \n",
       "7                HEAD OFFICE   Tue, 6 Sep 2022 17:25:10 +0530  \n",
       "8                HEAD OFFICE   Mon, 5 Sep 2022 03:34:59 +0530  \n",
       "9  CENTRAL PROCESSING BRANCH   Sun, 4 Sep 2022 22:35:43 +0530  "
      ]
     },
     "execution_count": 26,
     "metadata": {},
     "output_type": "execute_result"
    }
   ],
   "source": [
    "data"
   ]
  },
  {
   "cell_type": "code",
   "execution_count": 28,
   "metadata": {},
   "outputs": [],
   "source": [
    "def extract_transaction():    \n",
    "    trans_lst = []\n",
    "    for each_id in id_lst:\n",
    "        msgs = service.users().messages().get(userId = 'me', id = each_id).execute()\n",
    "        snippet = msgs['snippet']\n",
    "        main_body = msgs['payload']['body']['data']\n",
    "        main_body = main_body.replace('-', '+').replace('_', '/')\n",
    "        decode_msg = base64.b64decode(main_body)\n",
    "        soup = bs(decode_msg, 'lxml')\n",
    "        details = soup.find_all('tr')[7]\n",
    "        \n",
    "        description = details.find_all('td')[6].text.replace('\\r',' ').replace(\"\\n\",\" \").strip()\n",
    "        reference_number = details.find_all('td')[8].text.replace('\\r',' ').replace(\"\\n\",\" \").strip()\n",
    "        trans_branch = details.find_all('td')[10].text.replace('\\r',' ').replace(\"\\n\",\" \").strip()\n",
    "        date = msgs['payload']['headers'][-1]['value']\n",
    "        amount = re.search('\\d*\\.+\\d+', snippet).group()\n",
    "        acct_no = re.search('\\d*\\*+\\d+', snippet).group()\n",
    "        \n",
    "        if 'Credited' in snippet:\n",
    "            trans_type = 'Credited'\n",
    "        else:\n",
    "            trans_type = 'Debited'\n",
    "        \n",
    "        \n",
    "        trans_lst.append({\n",
    "            'amount': amount,\n",
    "            'a/c_number': acct_no,\n",
    "            'trans_type': trans_type,\n",
    "            'description': description,\n",
    "            'reference_number': reference_number,\n",
    "            'trans_branch': trans_branch,\n",
    "            'datetime': date\n",
    "        })\n",
    "    cols_name = ['amount', 'a/c_number', 'trans_type', 'description', 'reference_number', 'trans_branch', 'datetime']\n",
    "    data = pd.DataFrame(trans_lst, columns=cols_name)\n",
    "    return data"
   ]
  },
  {
   "cell_type": "code",
   "execution_count": 29,
   "metadata": {},
   "outputs": [
    {
     "data": {
      "text/html": [
       "<div>\n",
       "<style scoped>\n",
       "    .dataframe tbody tr th:only-of-type {\n",
       "        vertical-align: middle;\n",
       "    }\n",
       "\n",
       "    .dataframe tbody tr th {\n",
       "        vertical-align: top;\n",
       "    }\n",
       "\n",
       "    .dataframe thead th {\n",
       "        text-align: right;\n",
       "    }\n",
       "</style>\n",
       "<table border=\"1\" class=\"dataframe\">\n",
       "  <thead>\n",
       "    <tr style=\"text-align: right;\">\n",
       "      <th></th>\n",
       "      <th>amount</th>\n",
       "      <th>a/c_number</th>\n",
       "      <th>trans_type</th>\n",
       "      <th>description</th>\n",
       "      <th>reference_number</th>\n",
       "      <th>trans_branch</th>\n",
       "      <th>datetime</th>\n",
       "    </tr>\n",
       "  </thead>\n",
       "  <tbody>\n",
       "    <tr>\n",
       "      <th>0</th>\n",
       "      <td>300.00</td>\n",
       "      <td>162******608</td>\n",
       "      <td>Debited</td>\n",
       "      <td>AIRTIME/ MTN/08168550974</td>\n",
       "      <td>099MJKL22253cxrA</td>\n",
       "      <td>HEAD OFFICE</td>\n",
       "      <td>Sat, 10 Sep 2022 15:52:45 +0530</td>\n",
       "    </tr>\n",
       "    <tr>\n",
       "      <th>1</th>\n",
       "      <td>200.00</td>\n",
       "      <td>162******608</td>\n",
       "      <td>Debited</td>\n",
       "      <td>AIRTIME/ MTN/08169327250</td>\n",
       "      <td>099MJKL22252PRIV</td>\n",
       "      <td>HEAD OFFICE</td>\n",
       "      <td>Sat, 10 Sep 2022 00:36:44 +0530</td>\n",
       "    </tr>\n",
       "    <tr>\n",
       "      <th>2</th>\n",
       "      <td>3000.00</td>\n",
       "      <td>070******357</td>\n",
       "      <td>Debited</td>\n",
       "      <td>POS/WEB PMT T_KCEE MAGNET GLOBA 006018 203</td>\n",
       "      <td>098WNVI222524j42</td>\n",
       "      <td>CENTRAL PROCESSING BRANCH</td>\n",
       "      <td>Fri, 9 Sep 2022 12:41:36 +0530</td>\n",
       "    </tr>\n",
       "    <tr>\n",
       "      <th>3</th>\n",
       "      <td>5000.00</td>\n",
       "      <td>070******357</td>\n",
       "      <td>Credited</td>\n",
       "      <td>TRF//FRM GOODRICH IFEANYI OKORO TO GOODRIC</td>\n",
       "      <td>099MJKL222522wGH</td>\n",
       "      <td>HEAD OFFICE</td>\n",
       "      <td>Fri, 9 Sep 2022 12:36:09 +0530</td>\n",
       "    </tr>\n",
       "    <tr>\n",
       "      <th>4</th>\n",
       "      <td>5000.00</td>\n",
       "      <td>162******608</td>\n",
       "      <td>Debited</td>\n",
       "      <td>TRF//FRM GOODRICH IFEANYI OKORO TO GOODRIC</td>\n",
       "      <td>099MJKL222522wGH</td>\n",
       "      <td>HEAD OFFICE</td>\n",
       "      <td>Fri, 9 Sep 2022 12:36:08 +0530</td>\n",
       "    </tr>\n",
       "    <tr>\n",
       "      <th>5</th>\n",
       "      <td>300.00</td>\n",
       "      <td>162******608</td>\n",
       "      <td>Debited</td>\n",
       "      <td>AIRTIME/ MTN/08168550974</td>\n",
       "      <td>099MJKL22251QAdF</td>\n",
       "      <td>HEAD OFFICE</td>\n",
       "      <td>Fri, 9 Sep 2022 01:08:53 +0530</td>\n",
       "    </tr>\n",
       "    <tr>\n",
       "      <th>6</th>\n",
       "      <td>100.00</td>\n",
       "      <td>162******608</td>\n",
       "      <td>Debited</td>\n",
       "      <td>AIRTIME/ GLO/08058825038</td>\n",
       "      <td>099MJKL22251KaT7</td>\n",
       "      <td>HEAD OFFICE</td>\n",
       "      <td>Thu, 8 Sep 2022 21:54:20 +0530</td>\n",
       "    </tr>\n",
       "    <tr>\n",
       "      <th>7</th>\n",
       "      <td>200.00</td>\n",
       "      <td>162******608</td>\n",
       "      <td>Debited</td>\n",
       "      <td>AIRTIME/ MTN/08169327250</td>\n",
       "      <td>099MJKL2224931pJ</td>\n",
       "      <td>HEAD OFFICE</td>\n",
       "      <td>Tue, 6 Sep 2022 17:25:10 +0530</td>\n",
       "    </tr>\n",
       "    <tr>\n",
       "      <th>8</th>\n",
       "      <td>200.00</td>\n",
       "      <td>162******608</td>\n",
       "      <td>Debited</td>\n",
       "      <td>AIRTIME/ MTN/08169327250</td>\n",
       "      <td>099MJKL22248NwKP</td>\n",
       "      <td>HEAD OFFICE</td>\n",
       "      <td>Mon, 5 Sep 2022 03:34:59 +0530</td>\n",
       "    </tr>\n",
       "    <tr>\n",
       "      <th>9</th>\n",
       "      <td>5100.00</td>\n",
       "      <td>070******357</td>\n",
       "      <td>Debited</td>\n",
       "      <td>POS/WEB PMT  LA 00NG</td>\n",
       "      <td>098WNVI222472lM9</td>\n",
       "      <td>CENTRAL PROCESSING BRANCH</td>\n",
       "      <td>Sun, 4 Sep 2022 22:35:43 +0530</td>\n",
       "    </tr>\n",
       "  </tbody>\n",
       "</table>\n",
       "</div>"
      ],
      "text/plain": [
       "    amount    a/c_number trans_type  \\\n",
       "0   300.00  162******608    Debited   \n",
       "1   200.00  162******608    Debited   \n",
       "2  3000.00  070******357    Debited   \n",
       "3  5000.00  070******357   Credited   \n",
       "4  5000.00  162******608    Debited   \n",
       "5   300.00  162******608    Debited   \n",
       "6   100.00  162******608    Debited   \n",
       "7   200.00  162******608    Debited   \n",
       "8   200.00  162******608    Debited   \n",
       "9  5100.00  070******357    Debited   \n",
       "\n",
       "                                  description  reference_number  \\\n",
       "0                    AIRTIME/ MTN/08168550974  099MJKL22253cxrA   \n",
       "1                    AIRTIME/ MTN/08169327250  099MJKL22252PRIV   \n",
       "2  POS/WEB PMT T_KCEE MAGNET GLOBA 006018 203  098WNVI222524j42   \n",
       "3  TRF//FRM GOODRICH IFEANYI OKORO TO GOODRIC  099MJKL222522wGH   \n",
       "4  TRF//FRM GOODRICH IFEANYI OKORO TO GOODRIC  099MJKL222522wGH   \n",
       "5                    AIRTIME/ MTN/08168550974  099MJKL22251QAdF   \n",
       "6                    AIRTIME/ GLO/08058825038  099MJKL22251KaT7   \n",
       "7                    AIRTIME/ MTN/08169327250  099MJKL2224931pJ   \n",
       "8                    AIRTIME/ MTN/08169327250  099MJKL22248NwKP   \n",
       "9                        POS/WEB PMT  LA 00NG  098WNVI222472lM9   \n",
       "\n",
       "                trans_branch                         datetime  \n",
       "0                HEAD OFFICE  Sat, 10 Sep 2022 15:52:45 +0530  \n",
       "1                HEAD OFFICE  Sat, 10 Sep 2022 00:36:44 +0530  \n",
       "2  CENTRAL PROCESSING BRANCH   Fri, 9 Sep 2022 12:41:36 +0530  \n",
       "3                HEAD OFFICE   Fri, 9 Sep 2022 12:36:09 +0530  \n",
       "4                HEAD OFFICE   Fri, 9 Sep 2022 12:36:08 +0530  \n",
       "5                HEAD OFFICE   Fri, 9 Sep 2022 01:08:53 +0530  \n",
       "6                HEAD OFFICE   Thu, 8 Sep 2022 21:54:20 +0530  \n",
       "7                HEAD OFFICE   Tue, 6 Sep 2022 17:25:10 +0530  \n",
       "8                HEAD OFFICE   Mon, 5 Sep 2022 03:34:59 +0530  \n",
       "9  CENTRAL PROCESSING BRANCH   Sun, 4 Sep 2022 22:35:43 +0530  "
      ]
     },
     "execution_count": 29,
     "metadata": {},
     "output_type": "execute_result"
    }
   ],
   "source": [
    "extract_transaction()"
   ]
  },
  {
   "cell_type": "code",
   "execution_count": 9,
   "metadata": {},
   "outputs": [
    {
     "data": {
      "text/plain": [
       "'Amt includes COMM & VAT/USSD/GOODRICH IFEA'"
      ]
     },
     "execution_count": 9,
     "metadata": {},
     "output_type": "execute_result"
    }
   ],
   "source": [
    "d = soup.find_all('tr')[7]\n",
    "e = d.find_all('td')[6].text.replace('\\r',' ').replace(\"\\n\",\" \").strip()\n",
    "e"
   ]
  },
  {
   "cell_type": "code",
   "execution_count": null,
   "metadata": {},
   "outputs": [],
   "source": [
    "payload = msgs['payload']\n",
    "headers = payload['headers']\n",
    "\n",
    "parts = payload.get('body')['data']\n",
    "parts = parts.replace('-','+').replace('_','/')\n",
    "decode = base64.b64decode(parts)\n",
    "soup = bs(decode,\"lxml\" )\n",
    "body = soup.body()"
   ]
  },
  {
   "cell_type": "code",
   "execution_count": 150,
   "metadata": {},
   "outputs": [
    {
     "data": {
      "text/plain": [
       "'Amt includes COMM & VAT/USSD/GOODRICH IFEA'"
      ]
     },
     "execution_count": 150,
     "metadata": {},
     "output_type": "execute_result"
    }
   ],
   "source": [
    "d = soup.find_all('tr')[7]\n",
    "e = d.find_all('td')[6].text.replace('\\r',' ').replace(\"\\n\",\" \").strip()\n",
    "e"
   ]
  },
  {
   "cell_type": "code",
   "execution_count": 44,
   "metadata": {},
   "outputs": [
    {
     "data": {
      "text/plain": [
       "'\\r\\n                                            099MJNL2224484GU\\r\\n                                        '"
      ]
     },
     "execution_count": 44,
     "metadata": {},
     "output_type": "execute_result"
    }
   ],
   "source": [
    "d = soup.find_all('tr')[7]\n",
    "e = d.find_all('td')[8].text\n",
    "e"
   ]
  },
  {
   "cell_type": "code",
   "execution_count": 46,
   "metadata": {},
   "outputs": [
    {
     "data": {
      "text/plain": [
       "'\\r\\n                                            HEAD OFFICE\\r\\n                                        '"
      ]
     },
     "execution_count": 46,
     "metadata": {},
     "output_type": "execute_result"
    }
   ],
   "source": [
    "d = soup.find_all('tr')[7]\n",
    "e = d.find_all('td')[10].text\n",
    "e"
   ]
  },
  {
   "cell_type": "code",
   "execution_count": null,
   "metadata": {},
   "outputs": [
    {
     "name": "stdout",
     "output_type": "stream",
     "text": [
      "11200.00\n"
     ]
    }
   ],
   "source": [
    "pat = re.compile(r'\\d*\\.?\\d+')\n",
    "for x in msg_lst:\n",
    "   pad = re.findall('\\d*\\.?\\d+', x)\n",
    "\n",
    "print(pad[0])"
   ]
  },
  {
   "cell_type": "code",
   "execution_count": null,
   "metadata": {},
   "outputs": [
    {
     "name": "stdout",
     "output_type": "stream",
     "text": [
      "Dear GOODRICH IFEANYI OKORO, Your account has been Debited NGN 2000.00 Kindly click to rate your experience with Access Bank Good Fair Bad Transaction Summary A/C Number 070******357 Account Name\n"
     ]
    }
   ],
   "source": [
    "import re\n",
    "bank = []\n",
    "pattern = re.compile(r'Debited')\n",
    "b = you if re.search('Debited', you) else 3\n",
    "print(b)\n",
    "\n",
    "# import re\n",
    "# pattern=re.compile(r'ack') \n",
    "# str_match = [x for x in my_list if re.search('ack', x)]\n",
    "# print(str_match)"
   ]
  }
 ],
 "metadata": {
  "kernelspec": {
   "display_name": "Python 3.10.6 64-bit",
   "language": "python",
   "name": "python3"
  },
  "language_info": {
   "codemirror_mode": {
    "name": "ipython",
    "version": 3
   },
   "file_extension": ".py",
   "mimetype": "text/x-python",
   "name": "python",
   "nbconvert_exporter": "python",
   "pygments_lexer": "ipython3",
   "version": "3.10.6"
  },
  "orig_nbformat": 4,
  "vscode": {
   "interpreter": {
    "hash": "428a2680e134346dc6a50eeb15b5601ea447c297abbe5316187818ea532ba498"
   }
  }
 },
 "nbformat": 4,
 "nbformat_minor": 2
}
