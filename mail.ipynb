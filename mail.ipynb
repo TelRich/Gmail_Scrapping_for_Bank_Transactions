{
 "cells": [
  {
   "cell_type": "markdown",
   "metadata": {},
   "source": [
    "# Scrapping Bank Transaction Alert for Monthly Analysis \n",
    "\n",
    "Everytime a transaction is carried out on my bank account, a mail is sent to my Gmail. This mail comes with a transaction summary which includes A/C number, account name, description, reference number, transaction branch, transaction date, value date and available balance. As an individual, I would love to view my whole transaction details from a dashboard, for instance, through Microsoft Power BI mobile app. \n",
    "\n",
    "The aim of this project is to use the gmail api to access and extract few parameters from the transaction summary, then save it as an excel file. This file will then be used for visualization on Microsoft Power BI."
   ]
  },
  {
   "cell_type": "markdown",
   "metadata": {},
   "source": [
    "## Importing required modules"
   ]
  },
  {
   "cell_type": "code",
   "execution_count": 1,
   "metadata": {},
   "outputs": [],
   "source": [
    "from google.oauth2.credentials import Credentials\n",
    "from googleapiclient.discovery import build\n",
    "import base64\n",
    "from bs4 import BeautifulSoup as bs\n",
    "import re\n",
    "import pandas as pd"
   ]
  },
  {
   "cell_type": "markdown",
   "metadata": {},
   "source": [
    "## Defining a Scope and Creating Authentication"
   ]
  },
  {
   "cell_type": "code",
   "execution_count": 5,
   "metadata": {},
   "outputs": [
    {
     "ename": "RefreshError",
     "evalue": "('invalid_grant: Token has been expired or revoked.', {'error': 'invalid_grant', 'error_description': 'Token has been expired or revoked.'})",
     "output_type": "error",
     "traceback": [
      "\u001b[1;31m---------------------------------------------------------------------------\u001b[0m",
      "\u001b[1;31mRefreshError\u001b[0m                              Traceback (most recent call last)",
      "\u001b[1;32md:\\mail\\mail.ipynb Cell 5\u001b[0m in \u001b[0;36m<cell line: 6>\u001b[1;34m()\u001b[0m\n\u001b[0;32m      <a href='vscode-notebook-cell:/d%3A/mail/mail.ipynb#W4sZmlsZQ%3D%3D?line=2'>3</a>\u001b[0m     creds \u001b[39m=\u001b[39m Credentials\u001b[39m.\u001b[39mfrom_authorized_user_file(\u001b[39m'\u001b[39m\u001b[39mtoken.json\u001b[39m\u001b[39m'\u001b[39m, SCOPES)\n\u001b[0;32m      <a href='vscode-notebook-cell:/d%3A/mail/mail.ipynb#W4sZmlsZQ%3D%3D?line=4'>5</a>\u001b[0m service \u001b[39m=\u001b[39m build(\u001b[39m'\u001b[39m\u001b[39mgmail\u001b[39m\u001b[39m'\u001b[39m, \u001b[39m'\u001b[39m\u001b[39mv1\u001b[39m\u001b[39m'\u001b[39m, credentials\u001b[39m=\u001b[39mcreds)\n\u001b[1;32m----> <a href='vscode-notebook-cell:/d%3A/mail/mail.ipynb#W4sZmlsZQ%3D%3D?line=5'>6</a>\u001b[0m profile \u001b[39m=\u001b[39m service\u001b[39m.\u001b[39;49musers()\u001b[39m.\u001b[39;49mgetProfile(userId\u001b[39m=\u001b[39;49m\u001b[39m'\u001b[39;49m\u001b[39mme\u001b[39;49m\u001b[39m'\u001b[39;49m)\u001b[39m.\u001b[39;49mexecute()\n\u001b[0;32m      <a href='vscode-notebook-cell:/d%3A/mail/mail.ipynb#W4sZmlsZQ%3D%3D?line=6'>7</a>\u001b[0m profile \u001b[39m=\u001b[39m pd\u001b[39m.\u001b[39mDataFrame([profile])\n\u001b[0;32m      <a href='vscode-notebook-cell:/d%3A/mail/mail.ipynb#W4sZmlsZQ%3D%3D?line=7'>8</a>\u001b[0m profile\n",
      "File \u001b[1;32mc:\\Users\\okoro\\AppData\\Local\\Programs\\Python\\Python310\\lib\\site-packages\\googleapiclient\\_helpers.py:130\u001b[0m, in \u001b[0;36mpositional.<locals>.positional_decorator.<locals>.positional_wrapper\u001b[1;34m(*args, **kwargs)\u001b[0m\n\u001b[0;32m    128\u001b[0m     \u001b[39melif\u001b[39;00m positional_parameters_enforcement \u001b[39m==\u001b[39m POSITIONAL_WARNING:\n\u001b[0;32m    129\u001b[0m         logger\u001b[39m.\u001b[39mwarning(message)\n\u001b[1;32m--> 130\u001b[0m \u001b[39mreturn\u001b[39;00m wrapped(\u001b[39m*\u001b[39margs, \u001b[39m*\u001b[39m\u001b[39m*\u001b[39mkwargs)\n",
      "File \u001b[1;32mc:\\Users\\okoro\\AppData\\Local\\Programs\\Python\\Python310\\lib\\site-packages\\googleapiclient\\http.py:923\u001b[0m, in \u001b[0;36mHttpRequest.execute\u001b[1;34m(self, http, num_retries)\u001b[0m\n\u001b[0;32m    920\u001b[0m     \u001b[39mself\u001b[39m\u001b[39m.\u001b[39mheaders[\u001b[39m\"\u001b[39m\u001b[39mcontent-length\u001b[39m\u001b[39m\"\u001b[39m] \u001b[39m=\u001b[39m \u001b[39mstr\u001b[39m(\u001b[39mlen\u001b[39m(\u001b[39mself\u001b[39m\u001b[39m.\u001b[39mbody))\n\u001b[0;32m    922\u001b[0m \u001b[39m# Handle retries for server-side errors.\u001b[39;00m\n\u001b[1;32m--> 923\u001b[0m resp, content \u001b[39m=\u001b[39m _retry_request(\n\u001b[0;32m    924\u001b[0m     http,\n\u001b[0;32m    925\u001b[0m     num_retries,\n\u001b[0;32m    926\u001b[0m     \u001b[39m\"\u001b[39;49m\u001b[39mrequest\u001b[39;49m\u001b[39m\"\u001b[39;49m,\n\u001b[0;32m    927\u001b[0m     \u001b[39mself\u001b[39;49m\u001b[39m.\u001b[39;49m_sleep,\n\u001b[0;32m    928\u001b[0m     \u001b[39mself\u001b[39;49m\u001b[39m.\u001b[39;49m_rand,\n\u001b[0;32m    929\u001b[0m     \u001b[39mstr\u001b[39;49m(\u001b[39mself\u001b[39;49m\u001b[39m.\u001b[39;49muri),\n\u001b[0;32m    930\u001b[0m     method\u001b[39m=\u001b[39;49m\u001b[39mstr\u001b[39;49m(\u001b[39mself\u001b[39;49m\u001b[39m.\u001b[39;49mmethod),\n\u001b[0;32m    931\u001b[0m     body\u001b[39m=\u001b[39;49m\u001b[39mself\u001b[39;49m\u001b[39m.\u001b[39;49mbody,\n\u001b[0;32m    932\u001b[0m     headers\u001b[39m=\u001b[39;49m\u001b[39mself\u001b[39;49m\u001b[39m.\u001b[39;49mheaders,\n\u001b[0;32m    933\u001b[0m )\n\u001b[0;32m    935\u001b[0m \u001b[39mfor\u001b[39;00m callback \u001b[39min\u001b[39;00m \u001b[39mself\u001b[39m\u001b[39m.\u001b[39mresponse_callbacks:\n\u001b[0;32m    936\u001b[0m     callback(resp)\n",
      "File \u001b[1;32mc:\\Users\\okoro\\AppData\\Local\\Programs\\Python\\Python310\\lib\\site-packages\\googleapiclient\\http.py:191\u001b[0m, in \u001b[0;36m_retry_request\u001b[1;34m(http, num_retries, req_type, sleep, rand, uri, method, *args, **kwargs)\u001b[0m\n\u001b[0;32m    189\u001b[0m \u001b[39mtry\u001b[39;00m:\n\u001b[0;32m    190\u001b[0m     exception \u001b[39m=\u001b[39m \u001b[39mNone\u001b[39;00m\n\u001b[1;32m--> 191\u001b[0m     resp, content \u001b[39m=\u001b[39m http\u001b[39m.\u001b[39mrequest(uri, method, \u001b[39m*\u001b[39margs, \u001b[39m*\u001b[39m\u001b[39m*\u001b[39mkwargs)\n\u001b[0;32m    192\u001b[0m \u001b[39m# Retry on SSL errors and socket timeout errors.\u001b[39;00m\n\u001b[0;32m    193\u001b[0m \u001b[39mexcept\u001b[39;00m _ssl_SSLError \u001b[39mas\u001b[39;00m ssl_error:\n",
      "File \u001b[1;32mc:\\Users\\okoro\\AppData\\Local\\Programs\\Python\\Python310\\lib\\site-packages\\google_auth_httplib2.py:209\u001b[0m, in \u001b[0;36mAuthorizedHttp.request\u001b[1;34m(self, uri, method, body, headers, redirections, connection_type, **kwargs)\u001b[0m\n\u001b[0;32m    205\u001b[0m \u001b[39m# Make a copy of the headers. They will be modified by the credentials\u001b[39;00m\n\u001b[0;32m    206\u001b[0m \u001b[39m# and we want to pass the original headers if we recurse.\u001b[39;00m\n\u001b[0;32m    207\u001b[0m request_headers \u001b[39m=\u001b[39m headers\u001b[39m.\u001b[39mcopy() \u001b[39mif\u001b[39;00m headers \u001b[39mis\u001b[39;00m \u001b[39mnot\u001b[39;00m \u001b[39mNone\u001b[39;00m \u001b[39melse\u001b[39;00m {}\n\u001b[1;32m--> 209\u001b[0m \u001b[39mself\u001b[39;49m\u001b[39m.\u001b[39;49mcredentials\u001b[39m.\u001b[39;49mbefore_request(\u001b[39mself\u001b[39;49m\u001b[39m.\u001b[39;49m_request, method, uri, request_headers)\n\u001b[0;32m    211\u001b[0m \u001b[39m# Check if the body is a file-like stream, and if so, save the body\u001b[39;00m\n\u001b[0;32m    212\u001b[0m \u001b[39m# stream position so that it can be restored in case of refresh.\u001b[39;00m\n\u001b[0;32m    213\u001b[0m body_stream_position \u001b[39m=\u001b[39m \u001b[39mNone\u001b[39;00m\n",
      "File \u001b[1;32mc:\\Users\\okoro\\AppData\\Local\\Programs\\Python\\Python310\\lib\\site-packages\\google\\auth\\credentials.py:133\u001b[0m, in \u001b[0;36mCredentials.before_request\u001b[1;34m(self, request, method, url, headers)\u001b[0m\n\u001b[0;32m    129\u001b[0m \u001b[39m# pylint: disable=unused-argument\u001b[39;00m\n\u001b[0;32m    130\u001b[0m \u001b[39m# (Subclasses may use these arguments to ascertain information about\u001b[39;00m\n\u001b[0;32m    131\u001b[0m \u001b[39m# the http request.)\u001b[39;00m\n\u001b[0;32m    132\u001b[0m \u001b[39mif\u001b[39;00m \u001b[39mnot\u001b[39;00m \u001b[39mself\u001b[39m\u001b[39m.\u001b[39mvalid:\n\u001b[1;32m--> 133\u001b[0m     \u001b[39mself\u001b[39;49m\u001b[39m.\u001b[39;49mrefresh(request)\n\u001b[0;32m    134\u001b[0m \u001b[39mself\u001b[39m\u001b[39m.\u001b[39mapply(headers)\n",
      "File \u001b[1;32mc:\\Users\\okoro\\AppData\\Local\\Programs\\Python\\Python310\\lib\\site-packages\\google\\oauth2\\credentials.py:302\u001b[0m, in \u001b[0;36mCredentials.refresh\u001b[1;34m(self, request)\u001b[0m\n\u001b[0;32m    284\u001b[0m \u001b[39mif\u001b[39;00m (\n\u001b[0;32m    285\u001b[0m     \u001b[39mself\u001b[39m\u001b[39m.\u001b[39m_refresh_token \u001b[39mis\u001b[39;00m \u001b[39mNone\u001b[39;00m\n\u001b[0;32m    286\u001b[0m     \u001b[39mor\u001b[39;00m \u001b[39mself\u001b[39m\u001b[39m.\u001b[39m_token_uri \u001b[39mis\u001b[39;00m \u001b[39mNone\u001b[39;00m\n\u001b[0;32m    287\u001b[0m     \u001b[39mor\u001b[39;00m \u001b[39mself\u001b[39m\u001b[39m.\u001b[39m_client_id \u001b[39mis\u001b[39;00m \u001b[39mNone\u001b[39;00m\n\u001b[0;32m    288\u001b[0m     \u001b[39mor\u001b[39;00m \u001b[39mself\u001b[39m\u001b[39m.\u001b[39m_client_secret \u001b[39mis\u001b[39;00m \u001b[39mNone\u001b[39;00m\n\u001b[0;32m    289\u001b[0m ):\n\u001b[0;32m    290\u001b[0m     \u001b[39mraise\u001b[39;00m exceptions\u001b[39m.\u001b[39mRefreshError(\n\u001b[0;32m    291\u001b[0m         \u001b[39m\"\u001b[39m\u001b[39mThe credentials do not contain the necessary fields need to \u001b[39m\u001b[39m\"\u001b[39m\n\u001b[0;32m    292\u001b[0m         \u001b[39m\"\u001b[39m\u001b[39mrefresh the access token. You must specify refresh_token, \u001b[39m\u001b[39m\"\u001b[39m\n\u001b[0;32m    293\u001b[0m         \u001b[39m\"\u001b[39m\u001b[39mtoken_uri, client_id, and client_secret.\u001b[39m\u001b[39m\"\u001b[39m\n\u001b[0;32m    294\u001b[0m     )\n\u001b[0;32m    296\u001b[0m (\n\u001b[0;32m    297\u001b[0m     access_token,\n\u001b[0;32m    298\u001b[0m     refresh_token,\n\u001b[0;32m    299\u001b[0m     expiry,\n\u001b[0;32m    300\u001b[0m     grant_response,\n\u001b[0;32m    301\u001b[0m     rapt_token,\n\u001b[1;32m--> 302\u001b[0m ) \u001b[39m=\u001b[39m reauth\u001b[39m.\u001b[39;49mrefresh_grant(\n\u001b[0;32m    303\u001b[0m     request,\n\u001b[0;32m    304\u001b[0m     \u001b[39mself\u001b[39;49m\u001b[39m.\u001b[39;49m_token_uri,\n\u001b[0;32m    305\u001b[0m     \u001b[39mself\u001b[39;49m\u001b[39m.\u001b[39;49m_refresh_token,\n\u001b[0;32m    306\u001b[0m     \u001b[39mself\u001b[39;49m\u001b[39m.\u001b[39;49m_client_id,\n\u001b[0;32m    307\u001b[0m     \u001b[39mself\u001b[39;49m\u001b[39m.\u001b[39;49m_client_secret,\n\u001b[0;32m    308\u001b[0m     scopes\u001b[39m=\u001b[39;49mscopes,\n\u001b[0;32m    309\u001b[0m     rapt_token\u001b[39m=\u001b[39;49m\u001b[39mself\u001b[39;49m\u001b[39m.\u001b[39;49m_rapt_token,\n\u001b[0;32m    310\u001b[0m     enable_reauth_refresh\u001b[39m=\u001b[39;49m\u001b[39mself\u001b[39;49m\u001b[39m.\u001b[39;49m_enable_reauth_refresh,\n\u001b[0;32m    311\u001b[0m )\n\u001b[0;32m    313\u001b[0m \u001b[39mself\u001b[39m\u001b[39m.\u001b[39mtoken \u001b[39m=\u001b[39m access_token\n\u001b[0;32m    314\u001b[0m \u001b[39mself\u001b[39m\u001b[39m.\u001b[39mexpiry \u001b[39m=\u001b[39m expiry\n",
      "File \u001b[1;32mc:\\Users\\okoro\\AppData\\Local\\Programs\\Python\\Python310\\lib\\site-packages\\google\\oauth2\\reauth.py:347\u001b[0m, in \u001b[0;36mrefresh_grant\u001b[1;34m(request, token_uri, refresh_token, client_id, client_secret, scopes, rapt_token, enable_reauth_refresh)\u001b[0m\n\u001b[0;32m    342\u001b[0m     (response_status_ok, response_data) \u001b[39m=\u001b[39m _client\u001b[39m.\u001b[39m_token_endpoint_request_no_throw(\n\u001b[0;32m    343\u001b[0m         request, token_uri, body\n\u001b[0;32m    344\u001b[0m     )\n\u001b[0;32m    346\u001b[0m \u001b[39mif\u001b[39;00m \u001b[39mnot\u001b[39;00m response_status_ok:\n\u001b[1;32m--> 347\u001b[0m     _client\u001b[39m.\u001b[39;49m_handle_error_response(response_data)\n\u001b[0;32m    348\u001b[0m \u001b[39mreturn\u001b[39;00m _client\u001b[39m.\u001b[39m_handle_refresh_grant_response(response_data, refresh_token) \u001b[39m+\u001b[39m (\n\u001b[0;32m    349\u001b[0m     rapt_token,\n\u001b[0;32m    350\u001b[0m )\n",
      "File \u001b[1;32mc:\\Users\\okoro\\AppData\\Local\\Programs\\Python\\Python310\\lib\\site-packages\\google\\oauth2\\_client.py:62\u001b[0m, in \u001b[0;36m_handle_error_response\u001b[1;34m(response_data)\u001b[0m\n\u001b[0;32m     59\u001b[0m \u001b[39mexcept\u001b[39;00m (\u001b[39mKeyError\u001b[39;00m, \u001b[39mValueError\u001b[39;00m):\n\u001b[0;32m     60\u001b[0m     error_details \u001b[39m=\u001b[39m json\u001b[39m.\u001b[39mdumps(response_data)\n\u001b[1;32m---> 62\u001b[0m \u001b[39mraise\u001b[39;00m exceptions\u001b[39m.\u001b[39mRefreshError(error_details, response_data)\n",
      "\u001b[1;31mRefreshError\u001b[0m: ('invalid_grant: Token has been expired or revoked.', {'error': 'invalid_grant', 'error_description': 'Token has been expired or revoked.'})"
     ]
    }
   ],
   "source": [
    "SCOPES = ['https://www.googleapis.com/auth/gmail.readonly']\n",
    "with open('token.json', 'rb') as token:\n",
    "    creds = Credentials.from_authorized_user_file('token.json', SCOPES)\n",
    "\n",
    "service = build('gmail', 'v1', credentials=creds)\n",
    "profile = service.users().getProfile(userId='me').execute()\n",
    "profile = pd.DataFrame([profile])\n",
    "profile     # Viewing user gmail profile"
   ]
  },
  {
   "cell_type": "markdown",
   "metadata": {},
   "source": [
    "## Creating a Function to Extract the Parameters From Transaction Summary.\n",
    "**Note:** The default extraction for this function is 50 transaction. The more transaction you extract, the longer the code runs. \n",
    "\n",
    "After running some test, extracting 500 transaction will take approximately 6 mins."
   ]
  },
  {
   "cell_type": "code",
   "execution_count": 79,
   "metadata": {},
   "outputs": [],
   "source": [
    "def extract_transaction(maxResult=50, excel = False, csv=False):\n",
    "    # Filtering for transaction mails\n",
    "    filter = service.users().messages().list(userId = 'me', maxResults=maxResult,\n",
    "                                         q = 'from:no_reply@accessbankplc.com \\\n",
    "                                             subject:AccessAlert Transaction Alert').execute()\n",
    "\n",
    "    # Extracting Ids from filtered mail\n",
    "    filter_id = filter['messages']\n",
    "    id_lst = []\n",
    "    for ids in filter_id:\n",
    "        id_lst.append(ids['id'])\n",
    "    \n",
    "    # Accessing trasaction summary\n",
    "    trans_lst = []\n",
    "    for each_id in id_lst:\n",
    "        msgs = service.users().messages().get(userId = 'me', id = each_id).execute()\n",
    "        snippet = msgs['snippet']\n",
    "        main_body = msgs['payload']['body']['data']\n",
    "        main_body = main_body.replace('-', '+').replace('_', '/')\n",
    "        decode_msg = base64.b64decode(main_body)\n",
    "        soup = bs(decode_msg, 'lxml')\n",
    "        details = soup.find_all('tr')[7]\n",
    "        \n",
    "        # Extracting required parameters from transaction summary\n",
    "        description = details.find_all('td')[6].text.replace('\\r',' ').replace(\"\\n\",\" \").strip()\n",
    "        reference_number = details.find_all('td')[8].text.replace('\\r',' ').replace(\"\\n\",\" \").strip()\n",
    "        trans_branch = details.find_all('td')[10].text.replace('\\r',' ').replace(\"\\n\",\" \").strip()\n",
    "        date = msgs['payload']['headers'][-1]['value']\n",
    "        amount = re.search('\\d*\\.+\\d+', snippet).group()\n",
    "        acct_no = re.search('\\d*\\*+\\d+', snippet).group()\n",
    "        \n",
    "        # Checking the type of transaction\n",
    "        if 'Credited' in snippet:\n",
    "            trans_type = 'Credited'\n",
    "        else:\n",
    "            trans_type = 'Debited'\n",
    "        \n",
    "        # Appending extracted parameters to a dictionary\n",
    "        trans_lst.append({\n",
    "            'amount': float(amount),\n",
    "            'a/c_number': acct_no,\n",
    "            'trans_type': trans_type,\n",
    "            'description': description,\n",
    "            'reference_number': reference_number,\n",
    "            'trans_branch': trans_branch,\n",
    "            'datetime': pd.to_datetime(date).tz_localize(None)\n",
    "        })\n",
    "    \n",
    "    # Assigning columns names and returning a dataframe of extracted parameters\n",
    "    cols_name = ['amount', 'a/c_number', 'trans_type', 'description', 'reference_number', 'trans_branch', 'datetime']\n",
    "    data = pd.DataFrame(trans_lst, columns=cols_name)\n",
    "    \n",
    "    if excel:\n",
    "        data.to_excel(\"transaction.xlsx\")\n",
    "    elif csv:\n",
    "        data.to_csv(\"transaction.csv\", index=False)\n",
    "        \n",
    "    return data"
   ]
  },
  {
   "cell_type": "markdown",
   "metadata": {},
   "source": [
    "## Extraction\n",
    "\n",
    "The function has three parameters;\n",
    "1. `maxResult`: This denotes the number of transaction to be extracted. Default is 50.\n",
    "2. `excel`: This parameter accept bool. When set to `True`, it wil create an excel file of the extracted transactions. Default is `False`\n",
    "3. `csv`: This is similar to excel. This parameter when set to `True` will create a csv file in the working directory. Default is `False` "
   ]
  },
  {
   "cell_type": "code",
   "execution_count": 75,
   "metadata": {},
   "outputs": [
    {
     "data": {
      "text/html": [
       "<div>\n",
       "<style scoped>\n",
       "    .dataframe tbody tr th:only-of-type {\n",
       "        vertical-align: middle;\n",
       "    }\n",
       "\n",
       "    .dataframe tbody tr th {\n",
       "        vertical-align: top;\n",
       "    }\n",
       "\n",
       "    .dataframe thead th {\n",
       "        text-align: right;\n",
       "    }\n",
       "</style>\n",
       "<table border=\"1\" class=\"dataframe\">\n",
       "  <thead>\n",
       "    <tr style=\"text-align: right;\">\n",
       "      <th></th>\n",
       "      <th>amount</th>\n",
       "      <th>a/c_number</th>\n",
       "      <th>trans_type</th>\n",
       "      <th>description</th>\n",
       "      <th>reference_number</th>\n",
       "      <th>trans_branch</th>\n",
       "      <th>datetime</th>\n",
       "    </tr>\n",
       "  </thead>\n",
       "  <tbody>\n",
       "    <tr>\n",
       "      <th>0</th>\n",
       "      <td>300.0</td>\n",
       "      <td>162******608</td>\n",
       "      <td>Debited</td>\n",
       "      <td>AIRTIME/ MTN/08168550974</td>\n",
       "      <td>099MJKL22253cxrA</td>\n",
       "      <td>HEAD OFFICE</td>\n",
       "      <td>2022-09-10 15:52:45</td>\n",
       "    </tr>\n",
       "    <tr>\n",
       "      <th>1</th>\n",
       "      <td>200.0</td>\n",
       "      <td>162******608</td>\n",
       "      <td>Debited</td>\n",
       "      <td>AIRTIME/ MTN/08169327250</td>\n",
       "      <td>099MJKL22252PRIV</td>\n",
       "      <td>HEAD OFFICE</td>\n",
       "      <td>2022-09-10 00:36:44</td>\n",
       "    </tr>\n",
       "    <tr>\n",
       "      <th>2</th>\n",
       "      <td>3000.0</td>\n",
       "      <td>070******357</td>\n",
       "      <td>Debited</td>\n",
       "      <td>POS/WEB PMT T_KCEE MAGNET GLOBA 006018 203</td>\n",
       "      <td>098WNVI222524j42</td>\n",
       "      <td>CENTRAL PROCESSING BRANCH</td>\n",
       "      <td>2022-09-09 12:41:36</td>\n",
       "    </tr>\n",
       "    <tr>\n",
       "      <th>3</th>\n",
       "      <td>5000.0</td>\n",
       "      <td>070******357</td>\n",
       "      <td>Credited</td>\n",
       "      <td>TRF//FRM GOODRICH IFEANYI OKORO TO GOODRIC</td>\n",
       "      <td>099MJKL222522wGH</td>\n",
       "      <td>HEAD OFFICE</td>\n",
       "      <td>2022-09-09 12:36:09</td>\n",
       "    </tr>\n",
       "    <tr>\n",
       "      <th>4</th>\n",
       "      <td>5000.0</td>\n",
       "      <td>162******608</td>\n",
       "      <td>Debited</td>\n",
       "      <td>TRF//FRM GOODRICH IFEANYI OKORO TO GOODRIC</td>\n",
       "      <td>099MJKL222522wGH</td>\n",
       "      <td>HEAD OFFICE</td>\n",
       "      <td>2022-09-09 12:36:08</td>\n",
       "    </tr>\n",
       "  </tbody>\n",
       "</table>\n",
       "</div>"
      ],
      "text/plain": [
       "   amount    a/c_number trans_type  \\\n",
       "0   300.0  162******608    Debited   \n",
       "1   200.0  162******608    Debited   \n",
       "2  3000.0  070******357    Debited   \n",
       "3  5000.0  070******357   Credited   \n",
       "4  5000.0  162******608    Debited   \n",
       "\n",
       "                                  description  reference_number  \\\n",
       "0                    AIRTIME/ MTN/08168550974  099MJKL22253cxrA   \n",
       "1                    AIRTIME/ MTN/08169327250  099MJKL22252PRIV   \n",
       "2  POS/WEB PMT T_KCEE MAGNET GLOBA 006018 203  098WNVI222524j42   \n",
       "3  TRF//FRM GOODRICH IFEANYI OKORO TO GOODRIC  099MJKL222522wGH   \n",
       "4  TRF//FRM GOODRICH IFEANYI OKORO TO GOODRIC  099MJKL222522wGH   \n",
       "\n",
       "                trans_branch            datetime  \n",
       "0                HEAD OFFICE 2022-09-10 15:52:45  \n",
       "1                HEAD OFFICE 2022-09-10 00:36:44  \n",
       "2  CENTRAL PROCESSING BRANCH 2022-09-09 12:41:36  \n",
       "3                HEAD OFFICE 2022-09-09 12:36:09  \n",
       "4                HEAD OFFICE 2022-09-09 12:36:08  "
      ]
     },
     "execution_count": 75,
     "metadata": {},
     "output_type": "execute_result"
    }
   ],
   "source": [
    "data = extract_transaction(5)\n",
    "data"
   ]
  }
 ],
 "metadata": {
  "kernelspec": {
   "display_name": "Python 3.10.6 64-bit",
   "language": "python",
   "name": "python3"
  },
  "language_info": {
   "codemirror_mode": {
    "name": "ipython",
    "version": 3
   },
   "file_extension": ".py",
   "mimetype": "text/x-python",
   "name": "python",
   "nbconvert_exporter": "python",
   "pygments_lexer": "ipython3",
   "version": "3.10.6"
  },
  "orig_nbformat": 4,
  "vscode": {
   "interpreter": {
    "hash": "428a2680e134346dc6a50eeb15b5601ea447c297abbe5316187818ea532ba498"
   }
  }
 },
 "nbformat": 4,
 "nbformat_minor": 2
}
