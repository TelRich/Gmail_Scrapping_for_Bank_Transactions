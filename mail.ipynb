{
 "cells": [
  {
   "cell_type": "markdown",
   "metadata": {},
   "source": [
    "## Importing required modules"
   ]
  },
  {
   "cell_type": "code",
   "execution_count": 7,
   "metadata": {},
   "outputs": [],
   "source": [
    "from google.oauth2.credentials import Credentials\n",
    "from googleapiclient.discovery import build\n",
    "import base64\n",
    "from bs4 import BeautifulSoup as bs\n",
    "import re"
   ]
  },
  {
   "cell_type": "code",
   "execution_count": 8,
   "metadata": {},
   "outputs": [
    {
     "data": {
      "text/plain": [
       "{'emailAddress': 'dongoodygoody@gmail.com',\n",
       " 'messagesTotal': 3813,\n",
       " 'threadsTotal': 3081,\n",
       " 'historyId': '2849340'}"
      ]
     },
     "execution_count": 8,
     "metadata": {},
     "output_type": "execute_result"
    }
   ],
   "source": [
    "SCOPES = ['https://www.googleapis.com/auth/gmail.readonly']\n",
    "with open('token.json', 'rb') as token:\n",
    "    creds = Credentials.from_authorized_user_file('token.json', SCOPES)\n",
    "\n",
    "service = build('gmail', 'v1', credentials=creds)\n",
    "profile = service.users().getProfile(userId='me').execute()\n",
    "profile"
   ]
  },
  {
   "cell_type": "code",
   "execution_count": 9,
   "metadata": {},
   "outputs": [],
   "source": [
    "SCOPES = ['https://www.googleapis.com/auth/gmail.readonly']\n",
    "with open('token.json', 'rb') as token:\n",
    "    creds = Credentials.from_authorized_user_file('token.json', SCOPES)\n",
    "\n",
    "service = build('gmail', 'v1', credentials=creds)"
   ]
  },
  {
   "cell_type": "code",
   "execution_count": 10,
   "metadata": {},
   "outputs": [],
   "source": [
    "filter = service.users().messages().list(userId = 'me', maxResults=10,\n",
    "                                         q = 'from:no_reply@accessbankplc.com \\\n",
    "                                             subject:AccessAlert Transaction Alert').execute()\n",
    "\n",
    "filter_id = filter['messages']\n",
    "id_lst = []\n",
    "for ids in filter_id:\n",
    "    id_lst.append(ids['id'])\n",
    "    "
   ]
  },
  {
   "cell_type": "code",
   "execution_count": 15,
   "metadata": {},
   "outputs": [],
   "source": [
    "snippet_lst = []\n",
    "datetime = []\n",
    "for each_id in id_lst:\n",
    "    msgs = service.users().messages().get(userId = 'me', id = each_id).execute()\n",
    "    snippet = msgs['snippet']\n",
    "    date = msgs['payload']['headers'][-1]\n",
    "    snippet_lst.append(snippet)\n",
    "    datetime.append(date)"
   ]
  },
  {
   "cell_type": "code",
   "execution_count": 19,
   "metadata": {},
   "outputs": [],
   "source": [
    "trans_lst = []\n",
    "for each_id in id_lst:\n",
    "    msgs = service.users().messages().get(userId = 'me', id = each_id).execute()\n",
    "    snippet = msgs['snippet']\n",
    "    date = msgs['payload']['headers'][-1]\n",
    "    trans_lst.append({\n",
    "        'trans': snippet,\n",
    "        'datetime': date\n",
    "    })"
   ]
  },
  {
   "cell_type": "code",
   "execution_count": 20,
   "metadata": {},
   "outputs": [
    {
     "data": {
      "text/plain": [
       "[{'trans': 'Dear GOODRICH IFEANYI OKORO, Your account has been Debited NGN 200.00 Kindly click to rate your experience with Access Bank Good Fair Bad Transaction Summary A/C Number 162******608 Account Name',\n",
       "  'datetime': {'name': 'Date', 'value': 'Tue, 6 Sep 2022 17:25:10 +0530'}},\n",
       " {'trans': 'Dear GOODRICH IFEANYI OKORO, Your account has been Debited NGN 200.00 Kindly click to rate your experience with Access Bank Good Fair Bad Transaction Summary A/C Number 162******608 Account Name',\n",
       "  'datetime': {'name': 'Date', 'value': 'Mon, 5 Sep 2022 03:34:59 +0530'}},\n",
       " {'trans': 'Dear GOODRICH IFEANYI OKORO, Your account has been Debited NGN 5100.00 Kindly click to rate your experience with Access Bank Good Fair Bad Transaction Summary A/C Number 070******357 Account Name',\n",
       "  'datetime': {'name': 'Date', 'value': 'Sun, 4 Sep 2022 22:35:43 +0530'}},\n",
       " {'trans': 'Dear GOODRICH IFEANYI OKORO, Your account has been Credited NGN 5000.00 Kindly click to rate your experience with Access Bank Good Fair Bad Transaction Summary A/C Number 070******357 Account Name',\n",
       "  'datetime': {'name': 'Date', 'value': 'Sun, 4 Sep 2022 22:34:10 +0530'}},\n",
       " {'trans': 'Dear GOODRICH IFEANYI OKORO, Your account has been Debited NGN 5000.00 Kindly click to rate your experience with Access Bank Good Fair Bad Transaction Summary A/C Number 162******608 Account Name',\n",
       "  'datetime': {'name': 'Date', 'value': 'Sun, 4 Sep 2022 22:34:09 +0530'}},\n",
       " {'trans': 'Dear GOODRICH IFEANYI OKORO, Your account has been Debited NGN 300.00 Kindly click to rate your experience with Access Bank Good Fair Bad Transaction Summary A/C Number 162******608 Account Name',\n",
       "  'datetime': {'name': 'Date', 'value': 'Sat, 3 Sep 2022 21:30:31 +0530'}},\n",
       " {'trans': 'Dear GOODRICH IFEANYI OKORO, Your account has been Debited NGN 300.00 Kindly click to rate your experience with Access Bank Good Fair Bad Transaction Summary A/C Number 070******357 Account Name',\n",
       "  'datetime': {'name': 'Date', 'value': 'Fri, 2 Sep 2022 16:04:05 +0530'}},\n",
       " {'trans': 'Dear GOODRICH IFEANYI OKORO, Your account has been Debited NGN 2100.00 Kindly click to rate your experience with Access Bank Good Fair Bad Transaction Summary A/C Number 070******357 Account Name',\n",
       "  'datetime': {'name': 'Date', 'value': 'Thu, 1 Sep 2022 15:59:39 +0530'}},\n",
       " {'trans': 'Dear GOODRICH IFEANYI OKORO, Your account has been Debited NGN 5021.50 Kindly click to rate your experience with Access Bank Good Fair Bad Transaction Summary A/C Number 162******608 Account Name',\n",
       "  'datetime': {'name': 'Date', 'value': 'Thu, 1 Sep 2022 15:17:34 +0530'}},\n",
       " {'trans': 'Dear GOODRICH IFEANYI OKORO, Your account has been Credited NGN 5000.00 Kindly click to rate your experience with Access Bank Good Fair Bad Transaction Summary A/C Number 070******357 Account Name',\n",
       "  'datetime': {'name': 'Date', 'value': 'Thu, 1 Sep 2022 15:17:33 +0530'}}]"
      ]
     },
     "execution_count": 20,
     "metadata": {},
     "output_type": "execute_result"
    }
   ],
   "source": [
    "trans_lst"
   ]
  },
  {
   "cell_type": "code",
   "execution_count": null,
   "metadata": {},
   "outputs": [
    {
     "data": {
      "text/plain": [
       "[{'name': 'Date', 'value': 'Sat, 3 Sep 2022 21:30:31 +0530'},\n",
       " {'name': 'Date', 'value': 'Fri, 2 Sep 2022 16:04:05 +0530'},\n",
       " {'name': 'Date', 'value': 'Thu, 1 Sep 2022 15:59:39 +0530'},\n",
       " {'name': 'Date', 'value': 'Thu, 1 Sep 2022 15:17:34 +0530'},\n",
       " {'name': 'Date', 'value': 'Thu, 1 Sep 2022 15:17:33 +0530'},\n",
       " {'name': 'Date', 'value': 'Thu, 1 Sep 2022 15:16:19 +0530'},\n",
       " {'name': 'Date', 'value': 'Thu, 1 Sep 2022 12:17:03 +0530'},\n",
       " {'name': 'Date', 'value': 'Wed, 31 Aug 2022 11:06:32 +0530'},\n",
       " {'name': 'Date', 'value': 'Wed, 31 Aug 2022 11:06:32 +0530'},\n",
       " {'name': 'Date', 'value': 'Wed, 31 Aug 2022 11:03:47 +0530'}]"
      ]
     },
     "execution_count": 48,
     "metadata": {},
     "output_type": "execute_result"
    }
   ],
   "source": [
    "datetime"
   ]
  },
  {
   "cell_type": "code",
   "execution_count": null,
   "metadata": {},
   "outputs": [
    {
     "data": {
      "text/plain": [
       "['Dear GOODRICH IFEANYI OKORO, Your account has been Debited NGN 300.00 Kindly click to rate your experience with Access Bank Good Fair Bad Transaction Summary A/C Number 162******608 Account Name',\n",
       " 'Dear GOODRICH IFEANYI OKORO, Your account has been Debited NGN 300.00 Kindly click to rate your experience with Access Bank Good Fair Bad Transaction Summary A/C Number 070******357 Account Name',\n",
       " 'Dear GOODRICH IFEANYI OKORO, Your account has been Debited NGN 2100.00 Kindly click to rate your experience with Access Bank Good Fair Bad Transaction Summary A/C Number 070******357 Account Name',\n",
       " 'Dear GOODRICH IFEANYI OKORO, Your account has been Debited NGN 5021.50 Kindly click to rate your experience with Access Bank Good Fair Bad Transaction Summary A/C Number 162******608 Account Name',\n",
       " 'Dear GOODRICH IFEANYI OKORO, Your account has been Credited NGN 5000.00 Kindly click to rate your experience with Access Bank Good Fair Bad Transaction Summary A/C Number 070******357 Account Name',\n",
       " 'Dear GOODRICH IFEANYI OKORO, Your account has been Debited NGN 7100.00 Kindly click to rate your experience with Access Bank Good Fair Bad Transaction Summary A/C Number 070******357 Account Name',\n",
       " 'Dear GOODRICH IFEANYI OKORO, Your account has been Debited NGN 500.00 Kindly click to rate your experience with Access Bank Good Fair Bad Transaction Summary A/C Number 070******357 Account Name',\n",
       " 'Dear GOODRICH IFEANYI OKORO, Your account has been Debited NGN 5000.00 Kindly click to rate your experience with Access Bank Good Fair Bad Transaction Summary A/C Number 162******608 Account Name',\n",
       " 'Dear GOODRICH IFEANYI OKORO, Your account has been Credited NGN 5000.00 Kindly click to rate your experience with Access Bank Good Fair Bad Transaction Summary A/C Number 070******357 Account Name',\n",
       " 'Dear GOODRICH IFEANYI OKORO, Your account has been Debited NGN 10000.00 Kindly click to rate your experience with Access Bank Good Fair Bad Transaction Summary A/C Number 162******608 Account Name',\n",
       " 'Dear GOODRICH IFEANYI OKORO, Your account has been Credited NGN 33000.00 Kindly click to rate your experience with Access Bank Good Fair Bad Transaction Summary A/C Number 162******608 Account Name',\n",
       " 'Dear GOODRICH IFEANYI OKORO, Your account has been Credited NGN 3000.00 Kindly click to rate your experience with Access Bank Good Fair Bad Transaction Summary A/C Number 070******357 Account Name',\n",
       " 'Dear GOODRICH IFEANYI OKORO, Your account has been Debited NGN 3000.00 Kindly click to rate your experience with Access Bank Good Fair Bad Transaction Summary A/C Number 162******608 Account Name',\n",
       " 'Dear GOODRICH IFEANYI OKORO, Your account has been Debited NGN 3100.00 Kindly click to rate your experience with Access Bank Good Fair Bad Transaction Summary A/C Number 070******357 Account Name',\n",
       " 'Dear GOODRICH IFEANYI OKORO, Your account has been Debited NGN 2000.00 Kindly click to rate your experience with Access Bank Good Fair Bad Transaction Summary A/C Number 070******357 Account Name',\n",
       " 'Dear GOODRICH IFEANYI OKORO, Your account has been Credited NGN 1000.00 Kindly click to rate your experience with Access Bank Good Fair Bad Transaction Summary A/C Number 070******357 Account Name',\n",
       " 'Dear GOODRICH IFEANYI OKORO, Your account has been Debited NGN 1000.00 Kindly click to rate your experience with Access Bank Good Fair Bad Transaction Summary A/C Number 162******608 Account Name',\n",
       " 'Dear GOODRICH IFEANYI OKORO, Your account has been Debited NGN 500.00 Kindly click to rate your experience with Access Bank Good Fair Bad Transaction Summary A/C Number 162******608 Account Name',\n",
       " 'Dear GOODRICH IFEANYI OKORO, Your account has been Debited NGN 10000.00 Kindly click to rate your experience with Access Bank Good Fair Bad Transaction Summary A/C Number 070******357 Account Name',\n",
       " 'Dear GOODRICH IFEANYI OKORO, Your account has been Debited NGN 11200.00 Kindly click to rate your experience with Access Bank Good Fair Bad Transaction Summary A/C Number 162******608 Account Name']"
      ]
     },
     "execution_count": 33,
     "metadata": {},
     "output_type": "execute_result"
    }
   ],
   "source": [
    "snippet_lst"
   ]
  },
  {
   "cell_type": "code",
   "execution_count": null,
   "metadata": {},
   "outputs": [
    {
     "data": {
      "text/plain": [
       "{'name': 'Date', 'value': 'Mon, 29 Aug 2022 18:16:30 +0530'}"
      ]
     },
     "execution_count": 41,
     "metadata": {},
     "output_type": "execute_result"
    }
   ],
   "source": [
    "msgs['payload']['headers'][-1]"
   ]
  },
  {
   "cell_type": "code",
   "execution_count": null,
   "metadata": {},
   "outputs": [
    {
     "data": {
      "text/plain": [
       "[{'id': '18304d6779c2d13c', 'threadId': '18304d6779c2d13c'},\n",
       " {'id': '18304c8e5075a81a', 'threadId': '18304c8e5075a81a'},\n",
       " {'id': '1830481aa1352a24', 'threadId': '1830481aa1352a24'}]"
      ]
     },
     "execution_count": 6,
     "metadata": {},
     "output_type": "execute_result"
    }
   ],
   "source": [
    "result = service.users().messages().list(userId='me').execute()\n",
    "messages = result.get('messages')\n",
    "msg = messages[:3]\n",
    "msg"
   ]
  },
  {
   "cell_type": "code",
   "execution_count": null,
   "metadata": {},
   "outputs": [
    {
     "data": {
      "text/plain": [
       "{'id': '182fa3a277f6fd04',\n",
       " 'threadId': '182fa3a277f6fd04',\n",
       " 'labelIds': ['CATEGORY_UPDATES', 'INBOX'],\n",
       " 'snippet': 'We noticed a login to your account @GoodrichOkoro from a new device. Was this you? New login Location* Nigeria Device Chrome on Linux *Location is approximate based on the login&#39;s IP address. If',\n",
       " 'payload': {'partId': '',\n",
       "  'mimeType': 'multipart/alternative',\n",
       "  'filename': '',\n",
       "  'headers': [{'name': 'Delivered-To', 'value': 'dongoodygoody@gmail.com'},\n",
       "   {'name': 'Received',\n",
       "    'value': 'by 2002:a05:6f02:e:b0:23:4722:82d with SMTP id 14csp288701rcj;        Thu, 1 Sep 2022 11:04:51 -0700 (PDT)'},\n",
       "   {'name': 'X-Google-Smtp-Source',\n",
       "    'value': 'AA6agR6gFhT6SvFW3SMW+y7csq7Nz9Ntj8FUFeBjybzm1GjxsvVT9TTVegz9zwo90bpYmfPuCbMl'},\n",
       "   {'name': 'X-Received',\n",
       "    'value': 'by 2002:a25:f80c:0:b0:691:7d23:74c9 with SMTP id u12-20020a25f80c000000b006917d2374c9mr21247003ybd.112.1662055491574;        Thu, 01 Sep 2022 11:04:51 -0700 (PDT)'},\n",
       "   {'name': 'ARC-Seal',\n",
       "    'value': 'i=1; a=rsa-sha256; t=1662055491; cv=none;        d=google.com; s=arc-20160816;        b=awzipaIoMIECIRg7BakGSy/gwtWZPwyZCtQJkjjGwXW/rlInbKs+WiUkJQi9sq8B1M         3VWmbUOLomAzuFld/vnMFndlXbv2sIMfFc26JPIVKPmUvYdw7V6zy1kcmIUaV9RLy7Hi         BaZyzGy+Cm2YWX3yRqZ570SGnDvDfKzXtmEaw82sQgQGX7sqpySGmQH1saix8ZTqyp/A         rr8H5EOQxrbrXcgxOQY6EYajYHxq2phpcB+Gh7mxrAcSoRka+GpbCdiGp72UUV2sKi27         cOHRHKp5xoKI5nDOATKoLCi4T8V6opfvhPczWXi5hPGuCl/G1j2cZIWtSjGIAixK5BgX         EAIw=='},\n",
       "   {'name': 'ARC-Message-Signature',\n",
       "    'value': 'i=1; a=rsa-sha256; c=relaxed/relaxed; d=google.com; s=arc-20160816;        h=feedback-id:message-id:mime-version:subject:to:from:date         :dkim-signature;        bh=lZO3BvJO3kaoSvXVTdfEo5yotcNZM816ht6ZoebEoVM=;        b=JPSLD+wvd23CqA/OzMqKwRa657/j9MzMJFfRx3EcROeTiI5tuf2aOia5UeQq9bADR5         AYVB7oyeyXDm3BXXAmchDRIsesHau34Zjbg03VEho+MO0utlWbFchQJ3piR1/+6FO2yI         4yG5s7QbhTBr5Mh00IPPVdAlok4xeXc0Ydl5TqW8ZcTz/4U1r8+xQaVoWaSoySOg6vAn         GkVyDfUGbQS4Bu61yfFeEJatUdtm6nHnURMEJ0ryZZsc303D98CtbAg0yUFKd2rqaZaK         1rIujbpuOX+kO2f+d0bvUbw4o6rbY4Jcz8nGQbNX6IdCD+peDZNltKdWq/wJg/dKws3Q         6SVg=='},\n",
       "   {'name': 'ARC-Authentication-Results',\n",
       "    'value': 'i=1; mx.google.com;       dkim=pass header.i=@twitter.com header.s=dkim-201406 header.b=rThhvb+a;       spf=pass (google.com: domain of b0236a94712dongoodygoody=gmail.com@bounce.twitter.com designates 199.16.156.136 as permitted sender) smtp.mailfrom=\"b0236a94712dongoodygoody=gmail.com@bounce.twitter.com\";       dmarc=pass (p=REJECT sp=REJECT dis=NONE) header.from=twitter.com'},\n",
       "   {'name': 'Return-Path',\n",
       "    'value': '<b0236a94712dongoodygoody=gmail.com@bounce.twitter.com>'},\n",
       "   {'name': 'Received',\n",
       "    'value': 'from spring-chicken-cb.twitter.com (spring-chicken-cb.twitter.com. [199.16.156.136])        by mx.google.com with ESMTPS id g145-20020a815297000000b00334ff192ba1si9117575ywb.31.2022.09.01.11.04.51        for <dongoodygoody@gmail.com>        (version=TLS1_2 cipher=ECDHE-ECDSA-AES128-GCM-SHA256 bits=128/128);        Thu, 01 Sep 2022 11:04:51 -0700 (PDT)'},\n",
       "   {'name': 'Received-SPF',\n",
       "    'value': 'pass (google.com: domain of b0236a94712dongoodygoody=gmail.com@bounce.twitter.com designates 199.16.156.136 as permitted sender) client-ip=199.16.156.136;'},\n",
       "   {'name': 'Authentication-Results',\n",
       "    'value': 'mx.google.com;       dkim=pass header.i=@twitter.com header.s=dkim-201406 header.b=rThhvb+a;       spf=pass (google.com: domain of b0236a94712dongoodygoody=gmail.com@bounce.twitter.com designates 199.16.156.136 as permitted sender) smtp.mailfrom=\"b0236a94712dongoodygoody=gmail.com@bounce.twitter.com\";       dmarc=pass (p=REJECT sp=REJECT dis=NONE) header.from=twitter.com'},\n",
       "   {'name': 'DKIM-Signature',\n",
       "    'value': 'v=1; a=rsa-sha256; c=relaxed/relaxed; d=twitter.com; s=dkim-201406; t=1662056424; bh=lZO3BvJO3kaoSvXVTdfEo5yotcNZM816ht6ZoebEoVM=; h=Date:From:To:Subject:MIME-Version:Content-Type:Message-ID; b=rThhvb+aYWCDXTcxin0noOtsoj1o/bRcpKevKzlqiK32cikvD2VHcv8eznR7Cp4aM\\t YD4idBAfhUqd58c/8OXlfKQacKmuuWWACginkXbCki4ZKwnNvNevRLNTKGYndr0irM\\t tzTQX4DMoG3pFJcfXzQqMccQu649KR3wKmWfzebkeJfN7xCXzL48v2AJb9rFr719zL\\t PeB1ipStz6uZH/yQ9QQz2Dvvx+QTkLulmtdHzvuZtRr5o5l/iZQsW8XWWy/eifpY2R\\t oxqFUoe+ImH/nrkEzzQxi8S0sD5YTS29T/SoBHsXnvZ+Qm8gtPqBp+IhmfCGkpFqmL\\t dA/lPxAb4RajA=='},\n",
       "   {'name': 'X-MSFBL',\n",
       "    'value': 'm9W+HGJrGIfjsfK35GlrUPFNcCreI2PxprPE9J0CZgE=|eyJiIjoiYXRsYS1hamw tMTUtc3IxLUNyaXRpY2FsLjIxMyIsInIiOiJkb25nb29keWdvb2R5QGdtYWlsLmN vbSIsInUiOiJkb25nb29keWdvb2R5QGdtYWlsLmNvbUBpaWQjI2NlZDYyYTY0MmJ kNDQ3M2I5MGJiMGNlOWVhNmIxMzU3QHVzYiMjMjRAMjk2QDMzOTM1NzY2NDZAMEA wZDVhNzgzMDU2YzgwMWViYTIxZWQ1Mzc2NDU4ZmQ0N2EzMDFiY2M4IiwiZyI6IkN yaXRpY2FsIn0='},\n",
       "   {'name': 'Date', 'value': 'Thu, 01 Sep 2022 18:20:24 +0000'},\n",
       "   {'name': 'From', 'value': 'Twitter <verify@twitter.com>'},\n",
       "   {'name': 'To', 'value': 'GOODRICH <dongoodygoody@gmail.com>'},\n",
       "   {'name': 'Subject', 'value': 'New login to Twitter from Chrome on Linux'},\n",
       "   {'name': 'MIME-Version', 'value': '1.0'},\n",
       "   {'name': 'Content-Type',\n",
       "    'value': 'multipart/alternative; boundary=\"----=_Part_84198634_751292683.1662055491404\"'},\n",
       "   {'name': 'X-Twitter-CID', 'value': 'ibis2-login_notification_email'},\n",
       "   {'name': 'Message-ID', 'value': '<12.EF.03728.8E7F0136@twitter.com>'},\n",
       "   {'name': 'Feedback-ID',\n",
       "    'value': 'atla.fac21bdb3a2e02271cc32af9d949fe83:Twitter'}],\n",
       "  'body': {'size': 0},\n",
       "  'parts': [{'partId': '0',\n",
       "    'mimeType': 'text/plain',\n",
       "    'filename': '',\n",
       "    'headers': [{'name': 'Content-Type', 'value': 'text/plain; charset=UTF-8'},\n",
       "     {'name': 'Content-Transfer-Encoding', 'value': 'quoted-printable'}],\n",
       "    'body': {'size': 993,\n",
       "     'data': 'VHdpdHRlcg0KDQpXZSBub3RpY2VkIGEgbG9naW4gdG8geW91ciBhY2NvdW50IEBHb29kcmljaE9rb3JvIGZyb20gYSBuZXcgZGV2aWNlLiBXYXMgdGhpcyB5b3U_DQoNCk5ldyBsb2dpbg0KDQpMb2NhdGlvbg0KTmlnZXJpYQ0KDQoqTG9jYXRpb24gaXMgYXBwcm94aW1hdGUgYmFzZWQgb24gdGhlIGxvZ2luJ3MgSVAgYWRkcmVzcy4NCg0KRGV2aWNlDQoNCiAgICAgICAgQ2hyb21lIG9uIExpbnV4DQoNCklmIHRoaXMgd2FzIHlvdQ0KWW91IGNhbiBpZ25vcmUgdGhpcyBtZXNzYWdlLiBUaGVyZSdzIG5vIG5lZWQgdG8gdGFrZSBhbnkgYWN0aW9uLg0KDQpJZiB0aGlzIHdhc27igJl0IHlvdQ0KDQpDb21wbGV0ZSB0aGVzZSBzdGVwcyBub3cgdG8gcHJvdGVjdCB5b3VyIGFjY291bnQuDQoNCkNoYW5nZSB5b3VyIHBhc3N3b3JkLiBZb3UnbGwgYmUgbG9nZ2VkIG91dCBvZiBhbGwgeW91ciBhY3RpdmUgVHdpdHRlciBzZXNzaW9ucyBleGNlcHQgdGhlIG9uZSB5b3UncmUgdXNpbmcgYXQgdGhpcyB0aW1lLg0KPiBodHRwczovL3R3aXR0ZXIuY29tL2FjY291bnQvY29uZmlybV9lbWFpbF9yZXNldD9yZXNldF90eXBlPWUmcGFzc3dvcmRfcmVzZXRfY2F1c2U9bG9naW5fbm90aWZpY2F0aW9uJnVzZXJfaWQ9MzM5MzU3NjY0NiZ0b2tlbj1Na1ZpWHphTDVfaWpvYXFzVlZHJTIxT2pqWnZlUVhvRDJUNHlqanJfMnpyMjglM0QtMTY2MjA1NTQ5MTM3NCZ0b2tlbl92ZXJzaW9uPTAmY29uZmlybV9wZW5kaW5nX2VtYWlsPTANCg0KUmV2aWV3IHRoZSBhcHBzIHRoYXQgaGF2ZSBhY2Nlc3MgdG8geW91ciBhY2NvdW50IGFuZCByZXZva2UgYWNjZXNzIHRvIGFueSB1bmZhbWlsaWFyIGFwcHMuIExlYXJuIG1vcmUuDQo-IGh0dHBzOi8vaGVscC50d2l0dGVyLmNvbS9tYW5hZ2luZy15b3VyLWFjY291bnQvY29ubmVjdC1vci1yZXZva2UtYWNjZXNzLXRvLXRoaXJkLXBhcnR5LWFwcHMNCg0KPiBodHRwczovL3R3aXR0ZXIuY29tL3NldHRpbmdzL2FwcGxpY2F0aW9ucw0K'}},\n",
       "   {'partId': '1',\n",
       "    'mimeType': 'text/html',\n",
       "    'filename': '',\n",
       "    'headers': [{'name': 'Content-Type', 'value': 'text/html; charset=UTF-8'},\n",
       "     {'name': 'Content-Transfer-Encoding', 'value': 'quoted-printable'}],\n",
       "    'body': {'size': 16688,\n",
       "     'data': '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'}}]},\n",
       " 'sizeEstimate': 23525,\n",
       " 'historyId': '2824868',\n",
       " 'internalDate': '1662056424000'}"
      ]
     },
     "execution_count": 11,
     "metadata": {},
     "output_type": "execute_result"
    }
   ],
   "source": [
    "id_lst = []\n",
    "for ids in msg:\n",
    "    id_lst.append(ids['id'])\n",
    "txt = service.users().messages().get(userId='me', id='182fa3a277f6fd04').execute()\n",
    "txt"
   ]
  },
  {
   "cell_type": "code",
   "execution_count": null,
   "metadata": {},
   "outputs": [
    {
     "ename": "IndexError",
     "evalue": "list index out of range",
     "output_type": "error",
     "traceback": [
      "\u001b[1;31m---------------------------------------------------------------------------\u001b[0m",
      "\u001b[1;31mIndexError\u001b[0m                                Traceback (most recent call last)",
      "\u001b[1;32md:\\mail\\mail.ipynb Cell 6\u001b[0m in \u001b[0;36m<cell line: 16>\u001b[1;34m()\u001b[0m\n\u001b[0;32m     <a href='vscode-notebook-cell:/d%3A/mail/mail.ipynb#W5sZmlsZQ%3D%3D?line=12'>13</a>\u001b[0m     \u001b[39melse\u001b[39;00m:\n\u001b[0;32m     <a href='vscode-notebook-cell:/d%3A/mail/mail.ipynb#W5sZmlsZQ%3D%3D?line=13'>14</a>\u001b[0m         \u001b[39mpass\u001b[39;00m\n\u001b[1;32m---> <a href='vscode-notebook-cell:/d%3A/mail/mail.ipynb#W5sZmlsZQ%3D%3D?line=15'>16</a>\u001b[0m \u001b[39mprint\u001b[39m(msg_lst[\u001b[39m0\u001b[39;49m])\n",
      "\u001b[1;31mIndexError\u001b[0m: list index out of range"
     ]
    }
   ],
   "source": [
    "id_lst = []\n",
    "msg_lst = []\n",
    "for ids in msg:\n",
    "    id_lst.append(ids['id'])\n",
    "    \n",
    "for id in id_lst:\n",
    "    message = service.users().messages().get(userId='me', id=id).execute()\n",
    "    # d = ['Debited|Credited']\n",
    "    pattern = re.compile(r'Debited|Credited')\n",
    "    snippet = message['snippet']\n",
    "    if re.search('Debited|Credited', snippet):\n",
    "        msg_lst.append(snippet)\n",
    "    else:\n",
    "        pass\n",
    "\n",
    "print(msg_lst[0])"
   ]
  },
  {
   "cell_type": "code",
   "execution_count": null,
   "metadata": {},
   "outputs": [
    {
     "name": "stdout",
     "output_type": "stream",
     "text": [
      "['5000.00', '162', '608']\n",
      "['5000.00', '070', '357']\n",
      "['10000.00', '162', '608']\n",
      "['33000.00', '162', '608']\n"
     ]
    }
   ],
   "source": [
    "id_lst = []\n",
    "msg_lst = []\n",
    "for ids in msg:\n",
    "    id_lst.append(ids['id'])\n",
    "    \n",
    "for id in id_lst:\n",
    "    message = service.users().messages().get(userId='me', id=id).execute()\n",
    "    # d = ['Debited|Credited']\n",
    "    pattern = re.compile(r'Debited|Credited')\n",
    "    snippet = message['snippet']\n",
    "    if re.search('Debited|Credited', snippet):\n",
    "        pad = re.findall('\\d*\\.?\\d+', snippet)\n",
    "        print(pad)\n",
    "    else:\n",
    "        pass"
   ]
  },
  {
   "cell_type": "code",
   "execution_count": null,
   "metadata": {},
   "outputs": [
    {
     "data": {
      "text/plain": [
       "['Dear GOODRICH IFEANYI OKORO, Your account has been Credited NGN 3000.00 Kindly click to rate your experience with Access Bank Good Fair Bad Transaction Summary A/C Number 070******357 Account Name',\n",
       " 'Dear GOODRICH IFEANYI OKORO, Your account has been Debited NGN 3000.00 Kindly click to rate your experience with Access Bank Good Fair Bad Transaction Summary A/C Number 162******608 Account Name',\n",
       " 'Dear GOODRICH IFEANYI OKORO, Your account has been Debited NGN 3100.00 Kindly click to rate your experience with Access Bank Good Fair Bad Transaction Summary A/C Number 070******357 Account Name',\n",
       " 'Dear GOODRICH IFEANYI OKORO, Your account has been Debited NGN 2000.00 Kindly click to rate your experience with Access Bank Good Fair Bad Transaction Summary A/C Number 070******357 Account Name',\n",
       " 'Dear GOODRICH IFEANYI OKORO, Your account has been Credited NGN 1000.00 Kindly click to rate your experience with Access Bank Good Fair Bad Transaction Summary A/C Number 070******357 Account Name',\n",
       " 'Dear GOODRICH IFEANYI OKORO, Your account has been Debited NGN 1000.00 Kindly click to rate your experience with Access Bank Good Fair Bad Transaction Summary A/C Number 162******608 Account Name',\n",
       " 'Dear GOODRICH IFEANYI OKORO, Your account has been Debited NGN 500.00 Kindly click to rate your experience with Access Bank Good Fair Bad Transaction Summary A/C Number 162******608 Account Name',\n",
       " 'Dear GOODRICH IFEANYI OKORO, Your account has been Debited NGN 10000.00 Kindly click to rate your experience with Access Bank Good Fair Bad Transaction Summary A/C Number 070******357 Account Name',\n",
       " 'Dear GOODRICH IFEANYI OKORO, Your account has been Debited NGN 11200.00 Kindly click to rate your experience with Access Bank Good Fair Bad Transaction Summary A/C Number 162******608 Account Name',\n",
       " 'Dear GOODRICH IFEANYI OKORO, Your account has been Credited NGN 11200.00 Kindly click to rate your experience with Access Bank Good Fair Bad Transaction Summary A/C Number 070******357 Account Name']"
      ]
     },
     "execution_count": 103,
     "metadata": {},
     "output_type": "execute_result"
    }
   ],
   "source": [
    "msg_lst"
   ]
  },
  {
   "cell_type": "code",
   "execution_count": null,
   "metadata": {},
   "outputs": [
    {
     "name": "stdout",
     "output_type": "stream",
     "text": [
      "11200.00\n"
     ]
    }
   ],
   "source": [
    "pat = re.compile(r'\\d*\\.?\\d+')\n",
    "for x in msg_lst:\n",
    "   pad = re.findall('\\d*\\.?\\d+', x)\n",
    "\n",
    "print(pad[0])"
   ]
  },
  {
   "cell_type": "code",
   "execution_count": null,
   "metadata": {},
   "outputs": [
    {
     "data": {
      "text/plain": [
       "'Dear GOODRICH IFEANYI OKORO, Your account has been Debited NGN 2000.00 Kindly click to rate your experience with Access Bank Good Fair Bad Transaction Summary A/C Number 070******357 Account Name'"
      ]
     },
     "execution_count": 47,
     "metadata": {},
     "output_type": "execute_result"
    }
   ],
   "source": [
    "you = txt5['snippet']\n",
    "you"
   ]
  },
  {
   "cell_type": "code",
   "execution_count": null,
   "metadata": {},
   "outputs": [
    {
     "name": "stdout",
     "output_type": "stream",
     "text": [
      "Dear GOODRICH IFEANYI OKORO, Your account has been Debited NGN 2000.00 Kindly click to rate your experience with Access Bank Good Fair Bad Transaction Summary A/C Number 070******357 Account Name\n"
     ]
    }
   ],
   "source": [
    "import re\n",
    "bank = []\n",
    "pattern = re.compile(r'Debited')\n",
    "b = you if re.search('Debited', you) else 3\n",
    "print(b)\n",
    "\n",
    "# import re\n",
    "# pattern=re.compile(r'ack') \n",
    "# str_match = [x for x in my_list if re.search('ack', x)]\n",
    "# print(str_match)"
   ]
  },
  {
   "cell_type": "code",
   "execution_count": null,
   "metadata": {},
   "outputs": [
    {
     "name": "stdout",
     "output_type": "stream",
     "text": [
      "Dear GOODRICH IFEANYI OKORO, Your account has been Credited NGN 3000.00 Kindly click to rate your experience with Access Bank Good Fair Bad Transaction Summary A/C Number 070******357 Account Name\n",
      "Dear GOODRICH IFEANYI OKORO, Your account has been Debited NGN 3000.00 Kindly click to rate your experience with Access Bank Good Fair Bad Transaction Summary A/C Number 162******608 Account Name\n",
      "Dear GOODRICH IFEANYI OKORO, Your account has been Debited NGN 3100.00 Kindly click to rate your experience with Access Bank Good Fair Bad Transaction Summary A/C Number 070******357 Account Name\n",
      "None\n",
      "Dear GOODRICH IFEANYI OKORO, Your account has been Debited NGN 2000.00 Kindly click to rate your experience with Access Bank Good Fair Bad Transaction Summary A/C Number 070******357 Account Name\n"
     ]
    }
   ],
   "source": [
    "ids = [txt1, txt2, txt3, txt4, txt5]\n",
    "pattern = re.compile(r'Debited|Credited')\n",
    "for txt in ids:\n",
    "    snippet = txt['snippet']\n",
    "    if re.search('Debited|Credited', snippet):\n",
    "        print(snippet)\n",
    "    else:\n",
    "        print('None')"
   ]
  },
  {
   "cell_type": "code",
   "execution_count": null,
   "metadata": {},
   "outputs": [
    {
     "name": "stdout",
     "output_type": "stream",
     "text": [
      "Dear GOODRICH IFEANYI OKORO, Your account has been Credited NGN 3000.00 Kindly click to rate your experience with Access Bank Good Fair Bad Transaction Summary A/C Number 070******357 Account Name\n",
      "Dear GOODRICH IFEANYI OKORO, Your account has been Debited NGN 3000.00 Kindly click to rate your experience with Access Bank Good Fair Bad Transaction Summary A/C Number 162******608 Account Name\n",
      "Dear GOODRICH IFEANYI OKORO, Your account has been Debited NGN 3100.00 Kindly click to rate your experience with Access Bank Good Fair Bad Transaction Summary A/C Number 070******357 Account Name\n",
      "None\n",
      "Dear GOODRICH IFEANYI OKORO, Your account has been Debited NGN 2000.00 Kindly click to rate your experience with Access Bank Good Fair Bad Transaction Summary A/C Number 070******357 Account Name\n"
     ]
    }
   ],
   "source": [
    "ids = [txt1, txt2, txt3, txt4, txt5]\n",
    "d = 'Debited|Credited'\n",
    "pattern = re.compile(r'd')\n",
    "for txt in ids:\n",
    "    snippet = txt['snippet']\n",
    "    if re.search('d', snippet):\n",
    "        print(snippet)\n",
    "    else:\n",
    "        print('None')"
   ]
  },
  {
   "cell_type": "code",
   "execution_count": null,
   "metadata": {},
   "outputs": [
    {
     "data": {
      "text/plain": [
       "[{'name': 'Delivered-To', 'value': 'dongoodygoody@gmail.com'},\n",
       " {'name': 'Received',\n",
       "  'value': 'by 2002:a05:6f02:2b:b0:22:a77d:eece with SMTP id 43csp2220382rcj;        Tue, 30 Aug 2022 07:31:04 -0700 (PDT)'},\n",
       " {'name': 'X-Google-Smtp-Source',\n",
       "  'value': 'AA6agR67qsAvrXSWUU4XRBuv+6BhrCfzfKUsl8fIesf3VQGxGUnMxJnviP5IlCoMsZx0sdSr/xvK'},\n",
       " {'name': 'X-Received',\n",
       "  'value': 'by 2002:a05:622a:1185:b0:343:7de8:c0f2 with SMTP id m5-20020a05622a118500b003437de8c0f2mr14578169qtk.256.1661869864402;        Tue, 30 Aug 2022 07:31:04 -0700 (PDT)'},\n",
       " {'name': 'ARC-Seal',\n",
       "  'value': 'i=1; a=rsa-sha256; t=1661869864; cv=none;        d=google.com; s=arc-20160816;        b=WFqrEmr/PaXscWQFoKGOgmoodOz0c9sYTNuNXehIRDfkfBBAouEzy4JMYzLKCq6oDX         wmV2COEcoOIlQKNJOyTNNVw83C8mGY8XP+BkcNj7Hax7i56SjOHcE3pxuItRRjR0KUrq         8d/ijKjYvfL2vX6GcYNNQZgPt0M4p69CoUI254GAXHH30aP3XIkw63K2LO+EVwKrTgl3         Rzte2/Uxbl2ZvRZ8ranlK17GrvvmJAL0uZE7jtRySSN6yQiv1avzZG7MLbs/oGI9ASDi         7nyIXBA+5drhcix12cXIj5/b8NNSDXDvCNpYAKdGXsuia/I57SR6dCavNG+ZOB424v14         7s1g=='},\n",
       " {'name': 'ARC-Message-Signature',\n",
       "  'value': 'i=1; a=rsa-sha256; c=relaxed/relaxed; d=google.com; s=arc-20160816;        h=date:feedback-id:list-unsubscribe:content-transfer-encoding         :mime-version:subject:message-id:to:from:dkim-signature         :dkim-signature;        bh=uTS/PUG4WtIDdLk4oqkf/a5d12DiIhqqg10QMvlETpg=;        b=kH48x1/Qn8QFzJYhXozWyie0ZxQYxpvdZzfnops3n/QkUOZfJ7JnuAqz95lXuHmJbj         5x10XbcK/r3GdB3sKcYR+jcCD5bUW/xeey87G/Su73gQGU8M2pYkjXekDQ58IG9zBkEc         GvfaOmlDwGe1LdGVXheuX2jcLavBZfiyiQXVhty3YIzXi60SR70sqhOtSZcGoSHHxHSS         8zWEs67ecIrGQTaL8JntlvAukm6XSFIWWUwUrIYCbP9ND7cGcdAvHAT8I3U/k5L6UB8Y         uzfqD+XnpGSJ8XFCU01HEBdeOJXOwwN8xHGBtY5MVWSZFkWTjpei+HYxblLauGvNz2JZ         V7yA=='},\n",
       " {'name': 'ARC-Authentication-Results',\n",
       "  'value': 'i=1; mx.google.com;       dkim=pass header.i=@accessbankplc.com header.s=pepipost header.b=xGenXJaw;       dkim=fail header.i=@env.etransmail.com header.s=fnc header.b=yLEKL2KX;       spf=pass (google.com: domain of 16617978083771338-74879-1-gmail.com@delivery.accessbankplc.com designates 175.158.64.159 as permitted sender) smtp.mailfrom=16617978083771338-74879-1-gmail.com@delivery.accessbankplc.com;       dmarc=pass (p=QUARANTINE sp=QUARANTINE dis=NONE) header.from=accessbankplc.com'},\n",
       " {'name': 'Return-Path',\n",
       "  'value': '<16617978083771338-74879-1-gmail.com@delivery.accessbankplc.com>'},\n",
       " {'name': 'Received',\n",
       "  'value': 'from pepimail159.accessbankplc.com (pepimail159.accessbankplc.com. [175.158.64.159])        by mx.google.com with ESMTPS id bs43-20020a05620a472b00b006bb46922444si6250040qkb.569.2022.08.30.07.31.04        for <dongoodygoody@gmail.com>        (version=TLS1_2 cipher=ECDHE-ECDSA-AES128-GCM-SHA256 bits=128/128);        Tue, 30 Aug 2022 07:31:04 -0700 (PDT)'},\n",
       " {'name': 'Received-SPF',\n",
       "  'value': 'pass (google.com: domain of 16617978083771338-74879-1-gmail.com@delivery.accessbankplc.com designates 175.158.64.159 as permitted sender) client-ip=175.158.64.159;'},\n",
       " {'name': 'Authentication-Results',\n",
       "  'value': 'mx.google.com;       dkim=pass header.i=@accessbankplc.com header.s=pepipost header.b=xGenXJaw;       dkim=fail header.i=@env.etransmail.com header.s=fnc header.b=yLEKL2KX;       spf=pass (google.com: domain of 16617978083771338-74879-1-gmail.com@delivery.accessbankplc.com designates 175.158.64.159 as permitted sender) smtp.mailfrom=16617978083771338-74879-1-gmail.com@delivery.accessbankplc.com;       dmarc=pass (p=QUARANTINE sp=QUARANTINE dis=NONE) header.from=accessbankplc.com'},\n",
       " {'name': 'DKIM-Signature',\n",
       "  'value': 'v=1; a=rsa-sha256; c=relaxed/relaxed; s=pepipost; d=accessbankplc.com; h=From:To:Message-ID:Subject:MIME-Version:Content-Type:Content-Transfer-Encoding:List-Unsubscribe:Feedback-ID:Date:from:to:subject; bh=uTS/PUG4WtIDdLk4oqkf/a5d12DiIhqqg10QMvlETpg=; b=xGenXJaw3EcbFXwSMDFOXsxy5/0yNTQK8tuaXis92H9k6sCK9cfDDfbEwDYj2MLkwH1uIqQRCQXA   ojVm12gtdyEeZoT9mtU8JkCmqtVxQ0Akh7+j4eKMBumlroqRIFLCm792qTN2fun1UA9fxj62We0s   lvloZEB7cUs1MfPCGdc='},\n",
       " {'name': 'DKIM-Signature',\n",
       "  'value': 'v=1; a=rsa-sha256; c=relaxed/relaxed; s=fnc; d=env.etransmail.com; h=From:To:Message-ID:Subject:MIME-Version:Content-Type:Content-Transfer-Encoding:List-Unsubscribe:Feedback-ID:Date:from:to:subject; bh=uTS/PUG4WtIDdLk4oqkf/a5d12DiIhqqg10QMvlETpg=; b=yLEKL2KXCZ7l4VX/kIVqIp2HkgI+GcHHdAf9Z9yGWrmPuQeT44MFFxg84F75SW9fDAgAv7YuB3Mz   s6STyuVBSDdHtMfqpI3/CeSWPDwFEftK3kPtHKinksgpbzyE77afJZG8VGorkIWJKz/N1j62iYMg   Wm9UZcNAbPaDgUsbvHo='},\n",
       " {'name': 'From',\n",
       "  'value': '\"no_reply@accessbankplc.com\" <no_reply@accessbankplc.com>'},\n",
       " {'name': 'To', 'value': 'dongoodygoody@gmail.com'},\n",
       " {'name': 'Message-ID',\n",
       "  'value': '<820430937.5348949.1661869851299@abp-vb-ams.accessbankplc.com>'},\n",
       " {'name': 'Subject',\n",
       "  'value': 'AccessAlert Transaction Alert [Debit: 3,000.00 NGN]'},\n",
       " {'name': 'MIME-Version', 'value': '1.0'},\n",
       " {'name': 'Content-Type', 'value': 'text/html; charset=us-ascii'},\n",
       " {'name': 'Content-Transfer-Encoding', 'value': '7bit'},\n",
       " {'name': 'X-InjTime', 'value': '1661869851'},\n",
       " {'name': 'List-Unsubscribe',\n",
       "  'value': '<mailto:16617978083771338-74879@usub.ftrans03.com?subject=Unsubscribe>, <http://delivery.accessbankplc.com/NMRTIX?id=74879=NB0DVVIBDlYNSkNCRRgSEkIVEkFEEERDQRUZRREXFBFBQRNFRRUWQRQWQ0JFGBISQgVOBQteAwwOUUACXlhQSCEGXgQMWRgCW1sfU1MOAwVbAgpRXANTVFAGCl1NX0BFEVscSgFQWghCUxEbS1lRUQdGQQMFXg8TDVYXBl5aG38sM2csPQpfBUhAUA==>'},\n",
       " {'name': 'Feedback-ID', 'value': 'NzQ4Nzk6MjAyMjA4MzBfMjA6:pepipostE'},\n",
       " {'name': 'X-FNCID', 'value': '74879-16617978083771338-0'},\n",
       " {'name': 'X-Traffic-Type', 'value': '74879-3'},\n",
       " {'name': 'Date', 'value': 'Tue, 30 Aug 2022 20:00:59 +0530'}]"
      ]
     },
     "execution_count": 27,
     "metadata": {},
     "output_type": "execute_result"
    }
   ],
   "source": [
    "payload = txt1['payload']['headers']\n",
    "payload"
   ]
  },
  {
   "cell_type": "code",
   "execution_count": null,
   "metadata": {},
   "outputs": [
    {
     "data": {
      "text/plain": [
       "[{'name': 'Subject',\n",
       "  'value': 'AccessAlert Transaction Alert [Debit: 3,000.00 NGN]'}]"
      ]
     },
     "execution_count": 28,
     "metadata": {},
     "output_type": "execute_result"
    }
   ],
   "source": [
    "we = [d for d in payload if d['name'] == 'Subject']\n",
    "we"
   ]
  },
  {
   "cell_type": "code",
   "execution_count": null,
   "metadata": {},
   "outputs": [],
   "source": []
  },
  {
   "cell_type": "code",
   "execution_count": null,
   "metadata": {},
   "outputs": [],
   "source": []
  },
  {
   "cell_type": "code",
   "execution_count": null,
   "metadata": {},
   "outputs": [
    {
     "data": {
      "text/plain": [
       "b'Top stories for Goodrich\\r\\n\\r\\n-----\\r\\n\\r\\nQuestion: How long should it take to learn Python completely and start developing programs?\\r\\n\\r\\n\\r\\nAnswer from Larry Lock\\r\\n\\r\\n\\r\\nI\\xe2\\x80\\x99m a professional programmer (30+ years experience).\\r\\n\\r\\nHere are some hints, in addition to an answer to your question:\\r\\n\\r\\n1. Most professional programmers never learn a prog \\r\\nRead More: https://www.quora.com/qemail/tc?al_imp=eyJ0eXBlIjogMzMsICJoYXNoIjogIjE2Nzk1NjAwNDEyOTQwMjczNjd8MXwxfDU1MTYyMjc4In0%3D&al_pri=8&aoid=qopuVW6VbFH&aoty=1&aty=4&cp=1&et=2&id=9f9d2dd44f184eb79b0eee6ba9bdb014&uid=m0UWbQjebdu\\r\\n-----\\r\\nQuestion: Why is C++ getting replaced by Rust while C is not?\\r\\n\\r\\n\\r\\nAnswer from Ian Joyner\\r\\n\\r\\n\\r\\nBoth C and C++ should be replaced as system languages. And they should not be used for problem-oriented programming in the first place. Yes, C++ tries to be a language for \\r\\nRead More: https://www.quora.com/qemail/tc?al_imp=eyJ0eXBlIjogMzMsICJoYXNoIjogIjE2Nzk1NjAwNDEyOTQwMjczNjd8MnwxfDMyNzU1MTkzNyJ9&al_pri=8&aoid=855HcxljgJj&aoty=1&aty=4&cp=2&et=2&id=9f9d2dd44f184eb79b0eee6ba9bdb014&uid=m0UWbQjebdu\\r\\n-----\\r\\nQuestion: Which is correct, \\xe2\\x80\\x9cI am in the bus\\xe2\\x80\\x9d or \\xe2\\x80\\x9cI am on the bus\\xe2\\x80\\x9d?\\r\\n\\r\\n\\r\\nAnswer from Frank Dauenhauer\\r\\n\\r\\n\\r\\n\\r\\n> Which is correct, \\xe2\\x80\\x9cI am in the bus\\xe2\\x80\\x9d or \\xe2\\x80\\x9cI am on the bus\\xe2\\x80\\x9d?\\r\\nIf you are talking to a friend on your phone, explaining where you are at the moment, and you happen to be enj \\r\\nRead More: https://www.quora.com/qemail/tc?al_imp=eyJ0eXBlIjogMzMsICJoYXNoIjogIjE2Nzk1NjAwNDEyOTQwMjczNjd8M3wxfDM0OTk5ODU4MSJ9&al_pri=8&aoid=VzFlpos8Mly&aoty=1&aty=4&cp=3&et=2&id=9f9d2dd44f184eb79b0eee6ba9bdb014&uid=m0UWbQjebdu\\r\\n-----\\r\\nQuestion: Will a JW get disfellowshipped if they married a non-JW?\\r\\n\\r\\n\\r\\nAnswer from Sergio Saavedra\\r\\n\\r\\n\\r\\nThanks for the A2A.\\r\\n\\r\\nOther Jehovah\\xe2\\x80\\x99s Witnesses have already given you the answer.\\r\\n\\r\\nThe Bible tells us to marry only a person who shares our beliefs*, so marrying a non Wit \\r\\nRead More: https://www.quora.com/qemail/tc?al_imp=eyJ0eXBlIjogMzMsICJoYXNoIjogIjE2Nzk1NjAwNDEyOTQwMjczNjd8NHwxfDMzMzk0MzgxMiJ9&al_pri=8&aoid=DD324mZDGW&aoty=1&aty=4&cp=4&et=2&id=9f9d2dd44f184eb79b0eee6ba9bdb014&uid=m0UWbQjebdu\\r\\n-----\\r\\nQuestion: What is HIV+?\\r\\n\\r\\n\\r\\nAnswer from Mason Vasquez\\r\\n\\r\\n\\r\\nThe term \"HIV+\" means that the person has been diagnosed as a \"HIV-positive\". Thanks to advances, we currently have effective antiretroviral medications that allow HIV-pos \\r\\nRead More: https://www.quora.com/qemail/tc?al_imp=eyJ0eXBlIjogMzMsICJoYXNoIjogIjE2Nzk1NjAwNDEyOTQwMjczNjd8NXwxfDMwNjAwNDM1MiJ9&al_pri=8&aoid=bAtRdY3uTGd&aoty=1&aty=4&cp=5&et=2&id=9f9d2dd44f184eb79b0eee6ba9bdb014&uid=m0UWbQjebdu\\r\\n-----\\r\\nQuestion: What is socially acceptable in Denmark that would be horrifying in the U.S.?\\r\\n\\r\\n\\r\\nAnswer from Seongil Kwon\\r\\n\\r\\n\\r\\nDenmark is quite unique.\\r\\n\\r\\n1. SEX. Everywhere. Sex education is done early and the right to have sex is taken seriously. A friend told me once, if my dad ever walked in on  \\r\\nRead More: https://www.quora.com/qemail/tc?al_imp=eyJ0eXBlIjogMzMsICJoYXNoIjogIjE2Nzk1NjAwNDEyOTQwMjczNjd8NnwxfDE1NzkyNTgxMyJ9&al_pri=8&aoid=R0euoMw5uxB&aoty=1&aty=4&cp=6&et=2&id=9f9d2dd44f184eb79b0eee6ba9bdb014&uid=m0UWbQjebdu\\r\\n-----\\r\\nQuestion: My 13-year-old son just watched an anime called \"Berserk\", and he\\'s been talking about stuff like The Idea of Evil & \"The God Hand\" to his friends. Should I be concerned?\\r\\n\\r\\n\\r\\nAnswer from Andres Ochoa Moro\\r\\n\\r\\n\\r\\nYes, I think you should be a little bit concerned, not because he\\xe2\\x80\\x99s talking about the \\xe2\\x80\\x9cThe Idea of Evil\\xe2\\x80\\x9d or the \\xe2\\x80\\x9cGod Hand\\xe2\\x80\\x9d, you should be worried because, to be talking ab \\r\\nRead More: https://www.quora.com/qemail/tc?al_imp=eyJ0eXBlIjogMzMsICJoYXNoIjogIjE2Nzk1NjAwNDEyOTQwMjczNjd8N3wxfDMyOTgxNjY2MyJ9&al_pri=8&aoid=9BosihHefN6&aoty=1&aty=4&cp=7&et=2&id=9f9d2dd44f184eb79b0eee6ba9bdb014&uid=m0UWbQjebdu\\r\\n-----\\r\\nQuestion: What happens if an adult eats a lot of honey?\\r\\n\\r\\n\\r\\nAnswer from Lucia Garcia\\r\\n\\r\\n\\r\\nHoney is extremely nutritious and contains more than 180 nutrients such as sugars, proteins, amino acids, minerals, vitamins, active enzymes and so on.\\r\\n\\r\\nEating honey every \\r\\nRead More: https://www.quora.com/qemail/tc?al_imp=eyJ0eXBlIjogMzMsICJoYXNoIjogIjE2Nzk1NjAwNDEyOTQwMjczNjd8OHwxfDMyNDk4OTM2MSJ9&al_pri=8&aoid=RLbsmcqMBI2&aoty=1&aty=4&cp=8&et=2&id=9f9d2dd44f184eb79b0eee6ba9bdb014&uid=m0UWbQjebdu\\r\\n-----\\r\\nQuestion: How do I get real Illuminati members?\\r\\n\\r\\n\\r\\nAnswer from Paul Forshaw\\r\\n\\r\\n\\r\\nHow can I find real Illuminati?\\r\\n\\r\\nYou can\\xe2\\x80\\x99t. They don\\xe2\\x80\\x99t exist and are simply bogeymen for superstitious idiots.\\r\\nThe Illuminati myth is largely a product of the pranks of th \\r\\nRead More: https://www.quora.com/qemail/tc?al_imp=eyJ0eXBlIjogMzMsICJoYXNoIjogIjE2Nzk1NjAwNDEyOTQwMjczNjd8OXwxfDM2NjM2NTExOCJ9&al_pri=8&aoid=8mlPTIBT3NK&aoty=1&aty=4&cp=9&et=2&id=9f9d2dd44f184eb79b0eee6ba9bdb014&uid=m0UWbQjebdu\\r\\n-----\\r\\nQuestion: Does IELTS result affect in visa processing? I have overall 7 in IELTS but 5.5 in writing. Can I get visa for Canada?\\r\\n\\r\\n\\r\\nAnswer from Gill Bullen\\r\\n\\r\\n\\r\\nThank you for the A2A.\\r\\n\\r\\nYou asked, \\xe2\\x80\\x9cHow much IELTS result affect in visa processing? I have overall 7 in IELTS but 5.5 in writing. Can I get visa for Canada?\\xe2\\x80\\x9d, and I find  \\r\\nRead More: https://www.quora.com/qemail/tc?al_imp=eyJ0eXBlIjogMzMsICJoYXNoIjogIjE2Nzk1NjAwNDEyOTQwMjczNjd8MTB8MXwzNjk1MTU1MjcifQ%3D%3D&al_pri=8&aoid=JdNh28wkX6&aoty=1&aty=4&cp=10&et=2&id=9f9d2dd44f184eb79b0eee6ba9bdb014&uid=m0UWbQjebdu\\r\\n-----\\r\\nQuestion: If Julia does everything better than Python, why isn\\'t the community massively switching?\\r\\n\\r\\n\\r\\nAnswer from Morgane Alina\\xc3\\xaf\\r\\n\\r\\n\\r\\nAs a language Julia nearly does everything better than Python.\\r\\n\\r\\n * A bit easier to write.\\r\\n * Easier to read.\\r\\n * Way faster to execute (Fortran speed, used in supercalculat \\r\\nRead More: https://www.quora.com/qemail/tc?al_imp=eyJ0eXBlIjogMzMsICJoYXNoIjogIjE2Nzk1NjAwNDEyOTQwMjczNjd8MTF8MXwyNjQwMDkyMzcifQ%3D%3D&al_pri=8&aoid=XPRHMShXKHh&aoty=1&aty=4&cp=11&et=2&id=9f9d2dd44f184eb79b0eee6ba9bdb014&uid=m0UWbQjebdu\\r\\n-----\\r\\nQuestion: What is C++ written in?\\r\\n\\r\\n\\r\\nAnswer from David Vandevoorde\\r\\n\\r\\n\\r\\nThe question is ill-posed, I think.\\r\\n\\r\\nC++ is a programming language: Your question is similar to \"What is English written in?\"\\r\\n\\r\\nSome possible answer attempts:\\r\\n\\r\\n * C++ sourc \\r\\nRead More: https://www.quora.com/qemail/tc?al_imp=eyJ0eXBlIjogMzMsICJoYXNoIjogIjE2Nzk1NjAwNDEyOTQwMjczNjd8MTJ8MXwzNDY3ODUyNzcifQ%3D%3D&al_pri=8&aoid=VcQBCkZPME7&aoty=1&aty=4&cp=12&et=2&id=9f9d2dd44f184eb79b0eee6ba9bdb014&uid=m0UWbQjebdu\\r\\n-----\\r\\n\\r\\n-----\\r\\n\\r\\nTo control which emails we send you, visit: https://www.quora.com/qemail/tc?aoid&aoty=14&aty=4&cp=0&et=2&id=9f9d2dd44f184eb79b0eee6ba9bdb014&uid=m0UWbQjebdu\\r\\n\\r\\nTo unsubscribe from this type of email, visit: https://www.quora.com/email_optout/qemail_unsubscribe?email_track_id=9f9d2dd44f184eb79b0eee6ba9bdb014&t=1661679912893125&token=4767095a4745305236831cf57cd1da3b86a2f35e8623c5daef5258e3a3410b8587cd5cb768f2854351220ce31f3e0fd496997c4ecc8993a2cb77fd26d5592463&type=2&uid=1375075311'"
      ]
     },
     "execution_count": 21,
     "metadata": {},
     "output_type": "execute_result"
    }
   ],
   "source": [
    "payload = txt['payload']\n",
    "headers = payload['headers']\n",
    "\n",
    "parts = payload.get('parts')[0]\n",
    "data = parts['body']['data']\n",
    "data = data.replace('-','+').replace('_','/')\n",
    "decode_data = base64.b64decode(data)\n",
    "decode_data"
   ]
  },
  {
   "cell_type": "code",
   "execution_count": null,
   "metadata": {},
   "outputs": [
    {
     "data": {
      "text/plain": [
       "<p>Top stories for Goodrich\n",
       "\n",
       "-----\n",
       "\n",
       "Question: How long should it take to learn Python completely and start developing programs?\n",
       "\n",
       "\n",
       "Answer from Larry Lock\n",
       "\n",
       "\n",
       "I’m a professional programmer (30+ years experience).\n",
       "\n",
       "Here are some hints, in addition to an answer to your question:\n",
       "\n",
       "1. Most professional programmers never learn a prog \n",
       "Read More: https://www.quora.com/qemail/tc?al_imp=eyJ0eXBlIjogMzMsICJoYXNoIjogIjE2Nzk1NjAwNDEyOTQwMjczNjd8MXwxfDU1MTYyMjc4In0%3D&amp;al_pri=8&amp;aoid=qopuVW6VbFH&amp;aoty=1&amp;aty=4&amp;cp=1&amp;et=2&amp;id=9f9d2dd44f184eb79b0eee6ba9bdb014&amp;uid=m0UWbQjebdu\n",
       "-----\n",
       "Question: Why is C++ getting replaced by Rust while C is not?\n",
       "\n",
       "\n",
       "Answer from Ian Joyner\n",
       "\n",
       "\n",
       "Both C and C++ should be replaced as system languages. And they should not be used for problem-oriented programming in the first place. Yes, C++ tries to be a language for \n",
       "Read More: https://www.quora.com/qemail/tc?al_imp=eyJ0eXBlIjogMzMsICJoYXNoIjogIjE2Nzk1NjAwNDEyOTQwMjczNjd8MnwxfDMyNzU1MTkzNyJ9&amp;al_pri=8&amp;aoid=855HcxljgJj&amp;aoty=1&amp;aty=4&amp;cp=2&amp;et=2&amp;id=9f9d2dd44f184eb79b0eee6ba9bdb014&amp;uid=m0UWbQjebdu\n",
       "-----\n",
       "Question: Which is correct, “I am in the bus” or “I am on the bus”?\n",
       "\n",
       "\n",
       "Answer from Frank Dauenhauer\n",
       "\n",
       "\n",
       "\n",
       "&gt; Which is correct, “I am in the bus” or “I am on the bus”?\n",
       "If you are talking to a friend on your phone, explaining where you are at the moment, and you happen to be enj \n",
       "Read More: https://www.quora.com/qemail/tc?al_imp=eyJ0eXBlIjogMzMsICJoYXNoIjogIjE2Nzk1NjAwNDEyOTQwMjczNjd8M3wxfDM0OTk5ODU4MSJ9&amp;al_pri=8&amp;aoid=VzFlpos8Mly&amp;aoty=1&amp;aty=4&amp;cp=3&amp;et=2&amp;id=9f9d2dd44f184eb79b0eee6ba9bdb014&amp;uid=m0UWbQjebdu\n",
       "-----\n",
       "Question: Will a JW get disfellowshipped if they married a non-JW?\n",
       "\n",
       "\n",
       "Answer from Sergio Saavedra\n",
       "\n",
       "\n",
       "Thanks for the A2A.\n",
       "\n",
       "Other Jehovah’s Witnesses have already given you the answer.\n",
       "\n",
       "The Bible tells us to marry only a person who shares our beliefs*, so marrying a non Wit \n",
       "Read More: https://www.quora.com/qemail/tc?al_imp=eyJ0eXBlIjogMzMsICJoYXNoIjogIjE2Nzk1NjAwNDEyOTQwMjczNjd8NHwxfDMzMzk0MzgxMiJ9&amp;al_pri=8&amp;aoid=DD324mZDGW&amp;aoty=1&amp;aty=4&amp;cp=4&amp;et=2&amp;id=9f9d2dd44f184eb79b0eee6ba9bdb014&amp;uid=m0UWbQjebdu\n",
       "-----\n",
       "Question: What is HIV+?\n",
       "\n",
       "\n",
       "Answer from Mason Vasquez\n",
       "\n",
       "\n",
       "The term \"HIV+\" means that the person has been diagnosed as a \"HIV-positive\". Thanks to advances, we currently have effective antiretroviral medications that allow HIV-pos \n",
       "Read More: https://www.quora.com/qemail/tc?al_imp=eyJ0eXBlIjogMzMsICJoYXNoIjogIjE2Nzk1NjAwNDEyOTQwMjczNjd8NXwxfDMwNjAwNDM1MiJ9&amp;al_pri=8&amp;aoid=bAtRdY3uTGd&amp;aoty=1&amp;aty=4&amp;cp=5&amp;et=2&amp;id=9f9d2dd44f184eb79b0eee6ba9bdb014&amp;uid=m0UWbQjebdu\n",
       "-----\n",
       "Question: What is socially acceptable in Denmark that would be horrifying in the U.S.?\n",
       "\n",
       "\n",
       "Answer from Seongil Kwon\n",
       "\n",
       "\n",
       "Denmark is quite unique.\n",
       "\n",
       "1. SEX. Everywhere. Sex education is done early and the right to have sex is taken seriously. A friend told me once, if my dad ever walked in on  \n",
       "Read More: https://www.quora.com/qemail/tc?al_imp=eyJ0eXBlIjogMzMsICJoYXNoIjogIjE2Nzk1NjAwNDEyOTQwMjczNjd8NnwxfDE1NzkyNTgxMyJ9&amp;al_pri=8&amp;aoid=R0euoMw5uxB&amp;aoty=1&amp;aty=4&amp;cp=6&amp;et=2&amp;id=9f9d2dd44f184eb79b0eee6ba9bdb014&amp;uid=m0UWbQjebdu\n",
       "-----\n",
       "Question: My 13-year-old son just watched an anime called \"Berserk\", and he's been talking about stuff like The Idea of Evil &amp; \"The God Hand\" to his friends. Should I be concerned?\n",
       "\n",
       "\n",
       "Answer from Andres Ochoa Moro\n",
       "\n",
       "\n",
       "Yes, I think you should be a little bit concerned, not because he’s talking about the “The Idea of Evil” or the “God Hand”, you should be worried because, to be talking ab \n",
       "Read More: https://www.quora.com/qemail/tc?al_imp=eyJ0eXBlIjogMzMsICJoYXNoIjogIjE2Nzk1NjAwNDEyOTQwMjczNjd8N3wxfDMyOTgxNjY2MyJ9&amp;al_pri=8&amp;aoid=9BosihHefN6&amp;aoty=1&amp;aty=4&amp;cp=7&amp;et=2&amp;id=9f9d2dd44f184eb79b0eee6ba9bdb014&amp;uid=m0UWbQjebdu\n",
       "-----\n",
       "Question: What happens if an adult eats a lot of honey?\n",
       "\n",
       "\n",
       "Answer from Lucia Garcia\n",
       "\n",
       "\n",
       "Honey is extremely nutritious and contains more than 180 nutrients such as sugars, proteins, amino acids, minerals, vitamins, active enzymes and so on.\n",
       "\n",
       "Eating honey every \n",
       "Read More: https://www.quora.com/qemail/tc?al_imp=eyJ0eXBlIjogMzMsICJoYXNoIjogIjE2Nzk1NjAwNDEyOTQwMjczNjd8OHwxfDMyNDk4OTM2MSJ9&amp;al_pri=8&amp;aoid=RLbsmcqMBI2&amp;aoty=1&amp;aty=4&amp;cp=8&amp;et=2&amp;id=9f9d2dd44f184eb79b0eee6ba9bdb014&amp;uid=m0UWbQjebdu\n",
       "-----\n",
       "Question: How do I get real Illuminati members?\n",
       "\n",
       "\n",
       "Answer from Paul Forshaw\n",
       "\n",
       "\n",
       "How can I find real Illuminati?\n",
       "\n",
       "You can’t. They don’t exist and are simply bogeymen for superstitious idiots.\n",
       "The Illuminati myth is largely a product of the pranks of th \n",
       "Read More: https://www.quora.com/qemail/tc?al_imp=eyJ0eXBlIjogMzMsICJoYXNoIjogIjE2Nzk1NjAwNDEyOTQwMjczNjd8OXwxfDM2NjM2NTExOCJ9&amp;al_pri=8&amp;aoid=8mlPTIBT3NK&amp;aoty=1&amp;aty=4&amp;cp=9&amp;et=2&amp;id=9f9d2dd44f184eb79b0eee6ba9bdb014&amp;uid=m0UWbQjebdu\n",
       "-----\n",
       "Question: Does IELTS result affect in visa processing? I have overall 7 in IELTS but 5.5 in writing. Can I get visa for Canada?\n",
       "\n",
       "\n",
       "Answer from Gill Bullen\n",
       "\n",
       "\n",
       "Thank you for the A2A.\n",
       "\n",
       "You asked, “How much IELTS result affect in visa processing? I have overall 7 in IELTS but 5.5 in writing. Can I get visa for Canada?”, and I find  \n",
       "Read More: https://www.quora.com/qemail/tc?al_imp=eyJ0eXBlIjogMzMsICJoYXNoIjogIjE2Nzk1NjAwNDEyOTQwMjczNjd8MTB8MXwzNjk1MTU1MjcifQ%3D%3D&amp;al_pri=8&amp;aoid=JdNh28wkX6&amp;aoty=1&amp;aty=4&amp;cp=10&amp;et=2&amp;id=9f9d2dd44f184eb79b0eee6ba9bdb014&amp;uid=m0UWbQjebdu\n",
       "-----\n",
       "Question: If Julia does everything better than Python, why isn't the community massively switching?\n",
       "\n",
       "\n",
       "Answer from Morgane Alinaï\n",
       "\n",
       "\n",
       "As a language Julia nearly does everything better than Python.\n",
       "\n",
       " * A bit easier to write.\n",
       " * Easier to read.\n",
       " * Way faster to execute (Fortran speed, used in supercalculat \n",
       "Read More: https://www.quora.com/qemail/tc?al_imp=eyJ0eXBlIjogMzMsICJoYXNoIjogIjE2Nzk1NjAwNDEyOTQwMjczNjd8MTF8MXwyNjQwMDkyMzcifQ%3D%3D&amp;al_pri=8&amp;aoid=XPRHMShXKHh&amp;aoty=1&amp;aty=4&amp;cp=11&amp;et=2&amp;id=9f9d2dd44f184eb79b0eee6ba9bdb014&amp;uid=m0UWbQjebdu\n",
       "-----\n",
       "Question: What is C++ written in?\n",
       "\n",
       "\n",
       "Answer from David Vandevoorde\n",
       "\n",
       "\n",
       "The question is ill-posed, I think.\n",
       "\n",
       "C++ is a programming language: Your question is similar to \"What is English written in?\"\n",
       "\n",
       "Some possible answer attempts:\n",
       "\n",
       " * C++ sourc \n",
       "Read More: https://www.quora.com/qemail/tc?al_imp=eyJ0eXBlIjogMzMsICJoYXNoIjogIjE2Nzk1NjAwNDEyOTQwMjczNjd8MTJ8MXwzNDY3ODUyNzcifQ%3D%3D&amp;al_pri=8&amp;aoid=VcQBCkZPME7&amp;aoty=1&amp;aty=4&amp;cp=12&amp;et=2&amp;id=9f9d2dd44f184eb79b0eee6ba9bdb014&amp;uid=m0UWbQjebdu\n",
       "-----\n",
       "\n",
       "-----\n",
       "\n",
       "To control which emails we send you, visit: https://www.quora.com/qemail/tc?aoid&amp;aoty=14&amp;aty=4&amp;cp=0&amp;et=2&amp;id=9f9d2dd44f184eb79b0eee6ba9bdb014&amp;uid=m0UWbQjebdu\n",
       "\n",
       "To unsubscribe from this type of email, visit: https://www.quora.com/email_optout/qemail_unsubscribe?email_track_id=9f9d2dd44f184eb79b0eee6ba9bdb014&amp;t=1661679912893125&amp;token=4767095a4745305236831cf57cd1da3b86a2f35e8623c5daef5258e3a3410b8587cd5cb768f2854351220ce31f3e0fd496997c4ecc8993a2cb77fd26d5592463&amp;type=2&amp;uid=1375075311</p>"
      ]
     },
     "execution_count": 24,
     "metadata": {},
     "output_type": "execute_result"
    }
   ],
   "source": [
    "soup = bs(decode_data,\"lxml\" )\n",
    "body = soup.body()\n",
    "body"
   ]
  }
 ],
 "metadata": {
  "kernelspec": {
   "display_name": "Python 3.10.6 64-bit",
   "language": "python",
   "name": "python3"
  },
  "language_info": {
   "codemirror_mode": {
    "name": "ipython",
    "version": 3
   },
   "file_extension": ".py",
   "mimetype": "text/x-python",
   "name": "python",
   "nbconvert_exporter": "python",
   "pygments_lexer": "ipython3",
   "version": "3.10.6"
  },
  "orig_nbformat": 4,
  "vscode": {
   "interpreter": {
    "hash": "428a2680e134346dc6a50eeb15b5601ea447c297abbe5316187818ea532ba498"
   }
  }
 },
 "nbformat": 4,
 "nbformat_minor": 2
}
