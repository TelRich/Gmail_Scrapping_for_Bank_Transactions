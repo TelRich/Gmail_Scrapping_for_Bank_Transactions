{
 "cells": [
  {
   "cell_type": "markdown",
   "metadata": {},
   "source": [
    "# Scrapping Bank Transaction Alert for Monthly Analysis \n",
    "\n",
    "Everytime a transaction is carried out on my bank account, a mail is sent to my Gmail. This mail comes with a transaction summary which includes A/C number, account name, description, reference number, transaction branch, transaction date, value date and available balance. As an individual, I would love to view my whole transaction details from a dashboard, for instance, through Microsoft Power BI mobile app. \n",
    "\n",
    "The aim of this project is to use the gmail api to access and extract few parameters from the transaction summary, then save it as an excel file. This file will then be used for visualization on Microsoft Power BI."
   ]
  },
  {
   "cell_type": "markdown",
   "metadata": {},
   "source": [
    "## Importing required modules"
   ]
  },
  {
   "cell_type": "code",
   "execution_count": 46,
   "metadata": {},
   "outputs": [],
   "source": [
    "from google.oauth2.credentials import Credentials\n",
    "from googleapiclient.discovery import build\n",
    "from google_auth_oauthlib.flow import InstalledAppFlow\n",
    "import base64\n",
    "from ssl import SSLEOFError\n",
    "from bs4 import BeautifulSoup as bs\n",
    "import re\n",
    "import pandas as pd"
   ]
  },
  {
   "cell_type": "markdown",
   "metadata": {},
   "source": [
    "## Defining a Scope and Creating Authentication"
   ]
  },
  {
   "cell_type": "code",
   "execution_count": 47,
   "metadata": {},
   "outputs": [
    {
     "name": "stdout",
     "output_type": "stream",
     "text": [
      "Please visit this URL to authorize this application: https://accounts.google.com/o/oauth2/auth?response_type=code&client_id=140446691991-qptvni01vavr8c4klmgvb4shv4mdlv1j.apps.googleusercontent.com&redirect_uri=http%3A%2F%2Flocalhost%3A63816%2F&scope=https%3A%2F%2Fwww.googleapis.com%2Fauth%2Fgmail.readonly&state=DZQydmrZhHEUw2A8N2yqpjgyRkIfYV&access_type=offline\n"
     ]
    },
    {
     "data": {
      "text/html": [
       "<div>\n",
       "<style scoped>\n",
       "    .dataframe tbody tr th:only-of-type {\n",
       "        vertical-align: middle;\n",
       "    }\n",
       "\n",
       "    .dataframe tbody tr th {\n",
       "        vertical-align: top;\n",
       "    }\n",
       "\n",
       "    .dataframe thead th {\n",
       "        text-align: right;\n",
       "    }\n",
       "</style>\n",
       "<table border=\"1\" class=\"dataframe\">\n",
       "  <thead>\n",
       "    <tr style=\"text-align: right;\">\n",
       "      <th></th>\n",
       "      <th>emailAddress</th>\n",
       "      <th>messagesTotal</th>\n",
       "      <th>threadsTotal</th>\n",
       "      <th>historyId</th>\n",
       "    </tr>\n",
       "  </thead>\n",
       "  <tbody>\n",
       "    <tr>\n",
       "      <th>0</th>\n",
       "      <td>dongoodygoody@gmail.com</td>\n",
       "      <td>3859</td>\n",
       "      <td>3125</td>\n",
       "      <td>2895552</td>\n",
       "    </tr>\n",
       "  </tbody>\n",
       "</table>\n",
       "</div>"
      ],
      "text/plain": [
       "              emailAddress  messagesTotal  threadsTotal historyId\n",
       "0  dongoodygoody@gmail.com           3859          3125   2895552"
      ]
     },
     "execution_count": 47,
     "metadata": {},
     "output_type": "execute_result"
    }
   ],
   "source": [
    "SCOPES = ['https://www.googleapis.com/auth/gmail.readonly']\n",
    "\n",
    "flow = InstalledAppFlow.from_client_secrets_file('/Package/credentials.json', SCOPES)\n",
    "creds = flow.run_local_server(port=0)\n",
    "service = build('gmail', 'v1', credentials=creds)\n",
    "profile = service.users().getProfile(userId='me').execute()\n",
    "profile = pd.DataFrame([profile])\n",
    "profile     # Viewing user gmail profile"
   ]
  },
  {
   "cell_type": "markdown",
   "metadata": {},
   "source": [
    "## Creating a Function to Extract the Parameters From Transaction Summary.\n",
    "**Note:** The default extraction for this function is 50 transaction. The more transaction you extract, the longer the code runs. \n",
    "\n",
    "After running some test, extracting 500 transaction will take approximately 6 mins."
   ]
  },
  {
   "cell_type": "code",
   "execution_count": 48,
   "metadata": {},
   "outputs": [],
   "source": [
    "def extract_transaction(maxResult=50, excel = False, csv=False):\n",
    "    # Filtering for transaction mails\n",
    "    filter = service.users().messages().list(userId = 'me', maxResults=maxResult,\n",
    "                                         q = 'from:no_reply@accessbankplc.com \\\n",
    "                                             subject:AccessAlert Transaction Alert').execute()\n",
    "\n",
    "    # Extracting Ids from filtered mail\n",
    "    filter_id = filter['messages']\n",
    "    id_lst = []\n",
    "    for ids in filter_id:\n",
    "        id_lst.append(ids['id'])\n",
    "    \n",
    "    # Accessing trasaction summary\n",
    "    trans_lst = []\n",
    "    for each_id in id_lst:\n",
    "        msgs = service.users().messages().get(userId = 'me', id = each_id).execute()\n",
    "        snippet = msgs['snippet']\n",
    "        main_body = msgs['payload']['body']['data']\n",
    "        main_body = main_body.replace('-', '+').replace('_', '/')\n",
    "        decode_msg = base64.b64decode(main_body)\n",
    "        soup = bs(decode_msg, 'lxml')\n",
    "        details = soup.find_all('tr')[7]\n",
    "        \n",
    "        # Extracting required parameters from transaction summary\n",
    "        description = details.find_all('td')[6].text.replace('\\r',' ').replace(\"\\n\",\" \").strip()\n",
    "        reference_number = details.find_all('td')[8].text.replace('\\r',' ').replace(\"\\n\",\" \").strip()\n",
    "        trans_branch = details.find_all('td')[10].text.replace('\\r',' ').replace(\"\\n\",\" \").strip()\n",
    "        date = msgs['payload']['headers'][-1]['value']\n",
    "        amount = re.search('\\d*\\.+\\d+', snippet).group()\n",
    "        acct_no = re.search('\\d*\\*+\\d+', snippet).group()\n",
    "        \n",
    "        # Checking the type of transaction\n",
    "        if 'Credited' in snippet:\n",
    "            trans_type = 'Credited'\n",
    "        else:\n",
    "            trans_type = 'Debited'\n",
    "        \n",
    "        # Appending extracted parameters to a dictionary\n",
    "        trans_lst.append({\n",
    "            'amount': float(amount),\n",
    "            'a/c_number': acct_no,\n",
    "            'trans_type': trans_type,\n",
    "            'description': description,\n",
    "            'reference_number': reference_number,\n",
    "            'trans_branch': trans_branch,\n",
    "            'datetime': pd.to_datetime(date).tz_localize(None)\n",
    "        })\n",
    "    \n",
    "    # Assigning columns names and returning a dataframe of extracted parameters\n",
    "    cols_name = ['amount', 'a/c_number', 'trans_type', 'description', 'reference_number', 'trans_branch', 'datetime']\n",
    "    data = pd.DataFrame(trans_lst, columns=cols_name)\n",
    "    \n",
    "    if excel and csv:\n",
    "        data.to_excel(\"transaction.xlsx\")\n",
    "        data.to_csv(\"transaction.csv\", index=False)\n",
    "    elif excel:\n",
    "        data.to_excel(\"transaction.xlsx\")\n",
    "    elif csv:\n",
    "        data.to_csv(\"transaction.csv\", index=False)\n",
    "        \n",
    "    return data"
   ]
  },
  {
   "cell_type": "markdown",
   "metadata": {},
   "source": [
    "## Extraction\n",
    "\n",
    "The function has three parameters;\n",
    "1. `maxResult`: This denotes the number of transaction to be extracted. Default is 50.\n",
    "2. `excel`: This parameter accept bool. When set to `True`, it wil create an excel file of the extracted transactions. Default is `False`\n",
    "3. `csv`: This is similar to excel. This parameter when set to `True` will create a csv file in the working directory. Default is `False` "
   ]
  },
  {
   "cell_type": "code",
   "execution_count": 49,
   "metadata": {},
   "outputs": [
    {
     "data": {
      "text/html": [
       "<div>\n",
       "<style scoped>\n",
       "    .dataframe tbody tr th:only-of-type {\n",
       "        vertical-align: middle;\n",
       "    }\n",
       "\n",
       "    .dataframe tbody tr th {\n",
       "        vertical-align: top;\n",
       "    }\n",
       "\n",
       "    .dataframe thead th {\n",
       "        text-align: right;\n",
       "    }\n",
       "</style>\n",
       "<table border=\"1\" class=\"dataframe\">\n",
       "  <thead>\n",
       "    <tr style=\"text-align: right;\">\n",
       "      <th></th>\n",
       "      <th>amount</th>\n",
       "      <th>a/c_number</th>\n",
       "      <th>trans_type</th>\n",
       "      <th>description</th>\n",
       "      <th>reference_number</th>\n",
       "      <th>trans_branch</th>\n",
       "      <th>datetime</th>\n",
       "    </tr>\n",
       "  </thead>\n",
       "  <tbody>\n",
       "    <tr>\n",
       "      <th>0</th>\n",
       "      <td>200.0</td>\n",
       "      <td>070******357</td>\n",
       "      <td>Debited</td>\n",
       "      <td>AIRTIME/ MTN/08169327250</td>\n",
       "      <td>099MJKL222600FUo</td>\n",
       "      <td>HEAD OFFICE</td>\n",
       "      <td>2022-09-17 04:45:42</td>\n",
       "    </tr>\n",
       "    <tr>\n",
       "      <th>1</th>\n",
       "      <td>300.0</td>\n",
       "      <td>070******357</td>\n",
       "      <td>Debited</td>\n",
       "      <td>AIRTIME/ MTN/08168550974</td>\n",
       "      <td>099MJKL22258SUsT</td>\n",
       "      <td>HEAD OFFICE</td>\n",
       "      <td>2022-09-16 03:20:03</td>\n",
       "    </tr>\n",
       "    <tr>\n",
       "      <th>2</th>\n",
       "      <td>500.0</td>\n",
       "      <td>070******357</td>\n",
       "      <td>Debited</td>\n",
       "      <td>TRF/From TelRich Services/FRM GOODRICH IFE</td>\n",
       "      <td>099MJKL22258LPM0</td>\n",
       "      <td>HEAD OFFICE</td>\n",
       "      <td>2022-09-15 23:29:28</td>\n",
       "    </tr>\n",
       "    <tr>\n",
       "      <th>3</th>\n",
       "      <td>200.0</td>\n",
       "      <td>070******357</td>\n",
       "      <td>Debited</td>\n",
       "      <td>AIRTIME/ MTN/08169327250</td>\n",
       "      <td>099MJKL2225802x3</td>\n",
       "      <td>HEAD OFFICE</td>\n",
       "      <td>2022-09-15 05:07:19</td>\n",
       "    </tr>\n",
       "    <tr>\n",
       "      <th>4</th>\n",
       "      <td>300.0</td>\n",
       "      <td>070******357</td>\n",
       "      <td>Debited</td>\n",
       "      <td>AIRTIME/ MTN/08168550974</td>\n",
       "      <td>099MJKL22257SR8s</td>\n",
       "      <td>HEAD OFFICE</td>\n",
       "      <td>2022-09-15 03:08:11</td>\n",
       "    </tr>\n",
       "  </tbody>\n",
       "</table>\n",
       "</div>"
      ],
      "text/plain": [
       "   amount    a/c_number trans_type  \\\n",
       "0   200.0  070******357    Debited   \n",
       "1   300.0  070******357    Debited   \n",
       "2   500.0  070******357    Debited   \n",
       "3   200.0  070******357    Debited   \n",
       "4   300.0  070******357    Debited   \n",
       "\n",
       "                                  description  reference_number trans_branch  \\\n",
       "0                    AIRTIME/ MTN/08169327250  099MJKL222600FUo  HEAD OFFICE   \n",
       "1                    AIRTIME/ MTN/08168550974  099MJKL22258SUsT  HEAD OFFICE   \n",
       "2  TRF/From TelRich Services/FRM GOODRICH IFE  099MJKL22258LPM0  HEAD OFFICE   \n",
       "3                    AIRTIME/ MTN/08169327250  099MJKL2225802x3  HEAD OFFICE   \n",
       "4                    AIRTIME/ MTN/08168550974  099MJKL22257SR8s  HEAD OFFICE   \n",
       "\n",
       "             datetime  \n",
       "0 2022-09-17 04:45:42  \n",
       "1 2022-09-16 03:20:03  \n",
       "2 2022-09-15 23:29:28  \n",
       "3 2022-09-15 05:07:19  \n",
       "4 2022-09-15 03:08:11  "
      ]
     },
     "execution_count": 49,
     "metadata": {},
     "output_type": "execute_result"
    }
   ],
   "source": [
    "try:\n",
    "    data = extract_transaction(3000, excel=True, csv=True)\n",
    "except SSLEOFError as error:\n",
    "    print(\"Run the code again\")\n",
    "\n",
    "data.head()"
   ]
  }
 ],
 "metadata": {
  "kernelspec": {
   "display_name": "Python 3.10.6 64-bit",
   "language": "python",
   "name": "python3"
  },
  "language_info": {
   "codemirror_mode": {
    "name": "ipython",
    "version": 3
   },
   "file_extension": ".py",
   "mimetype": "text/x-python",
   "name": "python",
   "nbconvert_exporter": "python",
   "pygments_lexer": "ipython3",
   "version": "3.10.6"
  },
  "orig_nbformat": 4,
  "vscode": {
   "interpreter": {
    "hash": "428a2680e134346dc6a50eeb15b5601ea447c297abbe5316187818ea532ba498"
   }
  }
 },
 "nbformat": 4,
 "nbformat_minor": 2
}
